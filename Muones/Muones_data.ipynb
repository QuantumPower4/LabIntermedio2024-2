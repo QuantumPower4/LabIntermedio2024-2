{
 "cells": [
  {
   "cell_type": "code",
   "execution_count": 146,
   "id": "ffa57ebe",
   "metadata": {},
   "outputs": [],
   "source": [
    "import numpy as np\n",
    "import matplotlib.pyplot as plt\n",
    "import scipy\n",
    "import sympy as sym\n",
    "import pandas as pd"
   ]
  },
  {
   "cell_type": "code",
   "execution_count": 147,
   "id": "29d69e14",
   "metadata": {},
   "outputs": [],
   "source": [
    "t_detect = [5.1,9.9,14.5,20,19]\n",
    "t_osc =  [4.9,10.2,15.1,21.2,25]\n",
    "\n",
    "plt.scatter(t_osc, t_detect)\n",
    "plt.xlabel(\"Tiempo medido por el oscilador (μs)\")\n",
    "plt.ylabel(\"Tiempo medido por el software (μs)\")\n",
    "plt.grid(which = \"major\")"
   ]
  },
  {
   "cell_type": "code",
   "execution_count": 148,
   "id": "17c853c8",
   "metadata": {},
   "outputs": [],
   "source": [
    "def expfunction(x,A,B,C):\n",
    "    return A*np.exp(-x*B)+C\n",
    "\n",
    "def expfunction2(x,A,B):\n",
    "    return A*np.exp(-x*B)\n",
    "\n",
    "def linearfunction(x,A,B):\n",
    "    return A*x + B"
   ]
  },
  {
   "cell_type": "code",
   "execution_count": 149,
   "id": "7f077c6b",
   "metadata": {},
   "outputs": [],
   "source": [
    "DataFrame1 = pd.read_csv('24-10-15-11-21.data', usecols=[0], names=['time_rawdata'], sep=' ')\n",
    "DataFrame1 = DataFrame1[DataFrame1['time_rawdata'] < 20000]\n",
    "\n",
    "DataFrame2 = pd.read_csv('24-10-18-17-18.data', usecols=[0], names=['time_rawdata'], sep=' ')\n",
    "DataFrame2 = DataFrame2[DataFrame2['time_rawdata'] < 20000]\n"
   ]
  },
  {
   "cell_type": "code",
   "execution_count": 150,
   "id": "4adf41e8",
   "metadata": {},
   "outputs": [],
   "source": [
    "times_rawdata1 = DataFrame1['time_rawdata']/1000\n",
    "times_rawdata2 = DataFrame2['time_rawdata']/1000\n",
    "times_rawdata3 = DataFrame3[\"time_rawdata\"]/1000"
   ]
  },
  {
   "cell_type": "code",
   "execution_count": 151,
   "id": "13175c6a",
   "metadata": {},
   "outputs": [
    {
     "data": {
      "text/plain": [
       "(2066, 9225, 228013)"
      ]
     },
     "execution_count": 151,
     "metadata": {},
     "output_type": "execute_result"
    }
   ],
   "source": [
    "len(times_rawdata1), len(times_rawdata2), len(times_rawdata3)"
   ]
  },
  {
   "cell_type": "code",
   "execution_count": 152,
   "id": "cbf222f5",
   "metadata": {},
   "outputs": [
    {
     "data": {
      "application/javascript": [
       "/* Put everything inside the global mpl namespace */\n",
       "/* global mpl */\n",
       "window.mpl = {};\n",
       "\n",
       "mpl.get_websocket_type = function () {\n",
       "    if (typeof WebSocket !== 'undefined') {\n",
       "        return WebSocket;\n",
       "    } else if (typeof MozWebSocket !== 'undefined') {\n",
       "        return MozWebSocket;\n",
       "    } else {\n",
       "        alert(\n",
       "            'Your browser does not have WebSocket support. ' +\n",
       "                'Please try Chrome, Safari or Firefox ≥ 6. ' +\n",
       "                'Firefox 4 and 5 are also supported but you ' +\n",
       "                'have to enable WebSockets in about:config.'\n",
       "        );\n",
       "    }\n",
       "};\n",
       "\n",
       "mpl.figure = function (figure_id, websocket, ondownload, parent_element) {\n",
       "    this.id = figure_id;\n",
       "\n",
       "    this.ws = websocket;\n",
       "\n",
       "    this.supports_binary = this.ws.binaryType !== undefined;\n",
       "\n",
       "    if (!this.supports_binary) {\n",
       "        var warnings = document.getElementById('mpl-warnings');\n",
       "        if (warnings) {\n",
       "            warnings.style.display = 'block';\n",
       "            warnings.textContent =\n",
       "                'This browser does not support binary websocket messages. ' +\n",
       "                'Performance may be slow.';\n",
       "        }\n",
       "    }\n",
       "\n",
       "    this.imageObj = new Image();\n",
       "\n",
       "    this.context = undefined;\n",
       "    this.message = undefined;\n",
       "    this.canvas = undefined;\n",
       "    this.rubberband_canvas = undefined;\n",
       "    this.rubberband_context = undefined;\n",
       "    this.format_dropdown = undefined;\n",
       "\n",
       "    this.image_mode = 'full';\n",
       "\n",
       "    this.root = document.createElement('div');\n",
       "    this.root.setAttribute('style', 'display: inline-block');\n",
       "    this._root_extra_style(this.root);\n",
       "\n",
       "    parent_element.appendChild(this.root);\n",
       "\n",
       "    this._init_header(this);\n",
       "    this._init_canvas(this);\n",
       "    this._init_toolbar(this);\n",
       "\n",
       "    var fig = this;\n",
       "\n",
       "    this.waiting = false;\n",
       "\n",
       "    this.ws.onopen = function () {\n",
       "        fig.send_message('supports_binary', { value: fig.supports_binary });\n",
       "        fig.send_message('send_image_mode', {});\n",
       "        if (fig.ratio !== 1) {\n",
       "            fig.send_message('set_device_pixel_ratio', {\n",
       "                device_pixel_ratio: fig.ratio,\n",
       "            });\n",
       "        }\n",
       "        fig.send_message('refresh', {});\n",
       "    };\n",
       "\n",
       "    this.imageObj.onload = function () {\n",
       "        if (fig.image_mode === 'full') {\n",
       "            // Full images could contain transparency (where diff images\n",
       "            // almost always do), so we need to clear the canvas so that\n",
       "            // there is no ghosting.\n",
       "            fig.context.clearRect(0, 0, fig.canvas.width, fig.canvas.height);\n",
       "        }\n",
       "        fig.context.drawImage(fig.imageObj, 0, 0);\n",
       "    };\n",
       "\n",
       "    this.imageObj.onunload = function () {\n",
       "        fig.ws.close();\n",
       "    };\n",
       "\n",
       "    this.ws.onmessage = this._make_on_message_function(this);\n",
       "\n",
       "    this.ondownload = ondownload;\n",
       "};\n",
       "\n",
       "mpl.figure.prototype._init_header = function () {\n",
       "    var titlebar = document.createElement('div');\n",
       "    titlebar.classList =\n",
       "        'ui-dialog-titlebar ui-widget-header ui-corner-all ui-helper-clearfix';\n",
       "    var titletext = document.createElement('div');\n",
       "    titletext.classList = 'ui-dialog-title';\n",
       "    titletext.setAttribute(\n",
       "        'style',\n",
       "        'width: 100%; text-align: center; padding: 3px;'\n",
       "    );\n",
       "    titlebar.appendChild(titletext);\n",
       "    this.root.appendChild(titlebar);\n",
       "    this.header = titletext;\n",
       "};\n",
       "\n",
       "mpl.figure.prototype._canvas_extra_style = function (_canvas_div) {};\n",
       "\n",
       "mpl.figure.prototype._root_extra_style = function (_canvas_div) {};\n",
       "\n",
       "mpl.figure.prototype._init_canvas = function () {\n",
       "    var fig = this;\n",
       "\n",
       "    var canvas_div = (this.canvas_div = document.createElement('div'));\n",
       "    canvas_div.setAttribute(\n",
       "        'style',\n",
       "        'border: 1px solid #ddd;' +\n",
       "            'box-sizing: content-box;' +\n",
       "            'clear: both;' +\n",
       "            'min-height: 1px;' +\n",
       "            'min-width: 1px;' +\n",
       "            'outline: 0;' +\n",
       "            'overflow: hidden;' +\n",
       "            'position: relative;' +\n",
       "            'resize: both;'\n",
       "    );\n",
       "\n",
       "    function on_keyboard_event_closure(name) {\n",
       "        return function (event) {\n",
       "            return fig.key_event(event, name);\n",
       "        };\n",
       "    }\n",
       "\n",
       "    canvas_div.addEventListener(\n",
       "        'keydown',\n",
       "        on_keyboard_event_closure('key_press')\n",
       "    );\n",
       "    canvas_div.addEventListener(\n",
       "        'keyup',\n",
       "        on_keyboard_event_closure('key_release')\n",
       "    );\n",
       "\n",
       "    this._canvas_extra_style(canvas_div);\n",
       "    this.root.appendChild(canvas_div);\n",
       "\n",
       "    var canvas = (this.canvas = document.createElement('canvas'));\n",
       "    canvas.classList.add('mpl-canvas');\n",
       "    canvas.setAttribute('style', 'box-sizing: content-box;');\n",
       "\n",
       "    this.context = canvas.getContext('2d');\n",
       "\n",
       "    var backingStore =\n",
       "        this.context.backingStorePixelRatio ||\n",
       "        this.context.webkitBackingStorePixelRatio ||\n",
       "        this.context.mozBackingStorePixelRatio ||\n",
       "        this.context.msBackingStorePixelRatio ||\n",
       "        this.context.oBackingStorePixelRatio ||\n",
       "        this.context.backingStorePixelRatio ||\n",
       "        1;\n",
       "\n",
       "    this.ratio = (window.devicePixelRatio || 1) / backingStore;\n",
       "\n",
       "    var rubberband_canvas = (this.rubberband_canvas = document.createElement(\n",
       "        'canvas'\n",
       "    ));\n",
       "    rubberband_canvas.setAttribute(\n",
       "        'style',\n",
       "        'box-sizing: content-box; position: absolute; left: 0; top: 0; z-index: 1;'\n",
       "    );\n",
       "\n",
       "    // Apply a ponyfill if ResizeObserver is not implemented by browser.\n",
       "    if (this.ResizeObserver === undefined) {\n",
       "        if (window.ResizeObserver !== undefined) {\n",
       "            this.ResizeObserver = window.ResizeObserver;\n",
       "        } else {\n",
       "            var obs = _JSXTOOLS_RESIZE_OBSERVER({});\n",
       "            this.ResizeObserver = obs.ResizeObserver;\n",
       "        }\n",
       "    }\n",
       "\n",
       "    this.resizeObserverInstance = new this.ResizeObserver(function (entries) {\n",
       "        var nentries = entries.length;\n",
       "        for (var i = 0; i < nentries; i++) {\n",
       "            var entry = entries[i];\n",
       "            var width, height;\n",
       "            if (entry.contentBoxSize) {\n",
       "                if (entry.contentBoxSize instanceof Array) {\n",
       "                    // Chrome 84 implements new version of spec.\n",
       "                    width = entry.contentBoxSize[0].inlineSize;\n",
       "                    height = entry.contentBoxSize[0].blockSize;\n",
       "                } else {\n",
       "                    // Firefox implements old version of spec.\n",
       "                    width = entry.contentBoxSize.inlineSize;\n",
       "                    height = entry.contentBoxSize.blockSize;\n",
       "                }\n",
       "            } else {\n",
       "                // Chrome <84 implements even older version of spec.\n",
       "                width = entry.contentRect.width;\n",
       "                height = entry.contentRect.height;\n",
       "            }\n",
       "\n",
       "            // Keep the size of the canvas and rubber band canvas in sync with\n",
       "            // the canvas container.\n",
       "            if (entry.devicePixelContentBoxSize) {\n",
       "                // Chrome 84 implements new version of spec.\n",
       "                canvas.setAttribute(\n",
       "                    'width',\n",
       "                    entry.devicePixelContentBoxSize[0].inlineSize\n",
       "                );\n",
       "                canvas.setAttribute(\n",
       "                    'height',\n",
       "                    entry.devicePixelContentBoxSize[0].blockSize\n",
       "                );\n",
       "            } else {\n",
       "                canvas.setAttribute('width', width * fig.ratio);\n",
       "                canvas.setAttribute('height', height * fig.ratio);\n",
       "            }\n",
       "            canvas.setAttribute(\n",
       "                'style',\n",
       "                'width: ' + width + 'px; height: ' + height + 'px;'\n",
       "            );\n",
       "\n",
       "            rubberband_canvas.setAttribute('width', width);\n",
       "            rubberband_canvas.setAttribute('height', height);\n",
       "\n",
       "            // And update the size in Python. We ignore the initial 0/0 size\n",
       "            // that occurs as the element is placed into the DOM, which should\n",
       "            // otherwise not happen due to the minimum size styling.\n",
       "            if (fig.ws.readyState == 1 && width != 0 && height != 0) {\n",
       "                fig.request_resize(width, height);\n",
       "            }\n",
       "        }\n",
       "    });\n",
       "    this.resizeObserverInstance.observe(canvas_div);\n",
       "\n",
       "    function on_mouse_event_closure(name) {\n",
       "        return function (event) {\n",
       "            return fig.mouse_event(event, name);\n",
       "        };\n",
       "    }\n",
       "\n",
       "    rubberband_canvas.addEventListener(\n",
       "        'mousedown',\n",
       "        on_mouse_event_closure('button_press')\n",
       "    );\n",
       "    rubberband_canvas.addEventListener(\n",
       "        'mouseup',\n",
       "        on_mouse_event_closure('button_release')\n",
       "    );\n",
       "    rubberband_canvas.addEventListener(\n",
       "        'dblclick',\n",
       "        on_mouse_event_closure('dblclick')\n",
       "    );\n",
       "    // Throttle sequential mouse events to 1 every 20ms.\n",
       "    rubberband_canvas.addEventListener(\n",
       "        'mousemove',\n",
       "        on_mouse_event_closure('motion_notify')\n",
       "    );\n",
       "\n",
       "    rubberband_canvas.addEventListener(\n",
       "        'mouseenter',\n",
       "        on_mouse_event_closure('figure_enter')\n",
       "    );\n",
       "    rubberband_canvas.addEventListener(\n",
       "        'mouseleave',\n",
       "        on_mouse_event_closure('figure_leave')\n",
       "    );\n",
       "\n",
       "    canvas_div.addEventListener('wheel', function (event) {\n",
       "        if (event.deltaY < 0) {\n",
       "            event.step = 1;\n",
       "        } else {\n",
       "            event.step = -1;\n",
       "        }\n",
       "        on_mouse_event_closure('scroll')(event);\n",
       "    });\n",
       "\n",
       "    canvas_div.appendChild(canvas);\n",
       "    canvas_div.appendChild(rubberband_canvas);\n",
       "\n",
       "    this.rubberband_context = rubberband_canvas.getContext('2d');\n",
       "    this.rubberband_context.strokeStyle = '#000000';\n",
       "\n",
       "    this._resize_canvas = function (width, height, forward) {\n",
       "        if (forward) {\n",
       "            canvas_div.style.width = width + 'px';\n",
       "            canvas_div.style.height = height + 'px';\n",
       "        }\n",
       "    };\n",
       "\n",
       "    // Disable right mouse context menu.\n",
       "    this.rubberband_canvas.addEventListener('contextmenu', function (_e) {\n",
       "        event.preventDefault();\n",
       "        return false;\n",
       "    });\n",
       "\n",
       "    function set_focus() {\n",
       "        canvas.focus();\n",
       "        canvas_div.focus();\n",
       "    }\n",
       "\n",
       "    window.setTimeout(set_focus, 100);\n",
       "};\n",
       "\n",
       "mpl.figure.prototype._init_toolbar = function () {\n",
       "    var fig = this;\n",
       "\n",
       "    var toolbar = document.createElement('div');\n",
       "    toolbar.classList = 'mpl-toolbar';\n",
       "    this.root.appendChild(toolbar);\n",
       "\n",
       "    function on_click_closure(name) {\n",
       "        return function (_event) {\n",
       "            return fig.toolbar_button_onclick(name);\n",
       "        };\n",
       "    }\n",
       "\n",
       "    function on_mouseover_closure(tooltip) {\n",
       "        return function (event) {\n",
       "            if (!event.currentTarget.disabled) {\n",
       "                return fig.toolbar_button_onmouseover(tooltip);\n",
       "            }\n",
       "        };\n",
       "    }\n",
       "\n",
       "    fig.buttons = {};\n",
       "    var buttonGroup = document.createElement('div');\n",
       "    buttonGroup.classList = 'mpl-button-group';\n",
       "    for (var toolbar_ind in mpl.toolbar_items) {\n",
       "        var name = mpl.toolbar_items[toolbar_ind][0];\n",
       "        var tooltip = mpl.toolbar_items[toolbar_ind][1];\n",
       "        var image = mpl.toolbar_items[toolbar_ind][2];\n",
       "        var method_name = mpl.toolbar_items[toolbar_ind][3];\n",
       "\n",
       "        if (!name) {\n",
       "            /* Instead of a spacer, we start a new button group. */\n",
       "            if (buttonGroup.hasChildNodes()) {\n",
       "                toolbar.appendChild(buttonGroup);\n",
       "            }\n",
       "            buttonGroup = document.createElement('div');\n",
       "            buttonGroup.classList = 'mpl-button-group';\n",
       "            continue;\n",
       "        }\n",
       "\n",
       "        var button = (fig.buttons[name] = document.createElement('button'));\n",
       "        button.classList = 'mpl-widget';\n",
       "        button.setAttribute('role', 'button');\n",
       "        button.setAttribute('aria-disabled', 'false');\n",
       "        button.addEventListener('click', on_click_closure(method_name));\n",
       "        button.addEventListener('mouseover', on_mouseover_closure(tooltip));\n",
       "\n",
       "        var icon_img = document.createElement('img');\n",
       "        icon_img.src = '_images/' + image + '.png';\n",
       "        icon_img.srcset = '_images/' + image + '_large.png 2x';\n",
       "        icon_img.alt = tooltip;\n",
       "        button.appendChild(icon_img);\n",
       "\n",
       "        buttonGroup.appendChild(button);\n",
       "    }\n",
       "\n",
       "    if (buttonGroup.hasChildNodes()) {\n",
       "        toolbar.appendChild(buttonGroup);\n",
       "    }\n",
       "\n",
       "    var fmt_picker = document.createElement('select');\n",
       "    fmt_picker.classList = 'mpl-widget';\n",
       "    toolbar.appendChild(fmt_picker);\n",
       "    this.format_dropdown = fmt_picker;\n",
       "\n",
       "    for (var ind in mpl.extensions) {\n",
       "        var fmt = mpl.extensions[ind];\n",
       "        var option = document.createElement('option');\n",
       "        option.selected = fmt === mpl.default_extension;\n",
       "        option.innerHTML = fmt;\n",
       "        fmt_picker.appendChild(option);\n",
       "    }\n",
       "\n",
       "    var status_bar = document.createElement('span');\n",
       "    status_bar.classList = 'mpl-message';\n",
       "    toolbar.appendChild(status_bar);\n",
       "    this.message = status_bar;\n",
       "};\n",
       "\n",
       "mpl.figure.prototype.request_resize = function (x_pixels, y_pixels) {\n",
       "    // Request matplotlib to resize the figure. Matplotlib will then trigger a resize in the client,\n",
       "    // which will in turn request a refresh of the image.\n",
       "    this.send_message('resize', { width: x_pixels, height: y_pixels });\n",
       "};\n",
       "\n",
       "mpl.figure.prototype.send_message = function (type, properties) {\n",
       "    properties['type'] = type;\n",
       "    properties['figure_id'] = this.id;\n",
       "    this.ws.send(JSON.stringify(properties));\n",
       "};\n",
       "\n",
       "mpl.figure.prototype.send_draw_message = function () {\n",
       "    if (!this.waiting) {\n",
       "        this.waiting = true;\n",
       "        this.ws.send(JSON.stringify({ type: 'draw', figure_id: this.id }));\n",
       "    }\n",
       "};\n",
       "\n",
       "mpl.figure.prototype.handle_save = function (fig, _msg) {\n",
       "    var format_dropdown = fig.format_dropdown;\n",
       "    var format = format_dropdown.options[format_dropdown.selectedIndex].value;\n",
       "    fig.ondownload(fig, format);\n",
       "};\n",
       "\n",
       "mpl.figure.prototype.handle_resize = function (fig, msg) {\n",
       "    var size = msg['size'];\n",
       "    if (size[0] !== fig.canvas.width || size[1] !== fig.canvas.height) {\n",
       "        fig._resize_canvas(size[0], size[1], msg['forward']);\n",
       "        fig.send_message('refresh', {});\n",
       "    }\n",
       "};\n",
       "\n",
       "mpl.figure.prototype.handle_rubberband = function (fig, msg) {\n",
       "    var x0 = msg['x0'] / fig.ratio;\n",
       "    var y0 = (fig.canvas.height - msg['y0']) / fig.ratio;\n",
       "    var x1 = msg['x1'] / fig.ratio;\n",
       "    var y1 = (fig.canvas.height - msg['y1']) / fig.ratio;\n",
       "    x0 = Math.floor(x0) + 0.5;\n",
       "    y0 = Math.floor(y0) + 0.5;\n",
       "    x1 = Math.floor(x1) + 0.5;\n",
       "    y1 = Math.floor(y1) + 0.5;\n",
       "    var min_x = Math.min(x0, x1);\n",
       "    var min_y = Math.min(y0, y1);\n",
       "    var width = Math.abs(x1 - x0);\n",
       "    var height = Math.abs(y1 - y0);\n",
       "\n",
       "    fig.rubberband_context.clearRect(\n",
       "        0,\n",
       "        0,\n",
       "        fig.canvas.width / fig.ratio,\n",
       "        fig.canvas.height / fig.ratio\n",
       "    );\n",
       "\n",
       "    fig.rubberband_context.strokeRect(min_x, min_y, width, height);\n",
       "};\n",
       "\n",
       "mpl.figure.prototype.handle_figure_label = function (fig, msg) {\n",
       "    // Updates the figure title.\n",
       "    fig.header.textContent = msg['label'];\n",
       "};\n",
       "\n",
       "mpl.figure.prototype.handle_cursor = function (fig, msg) {\n",
       "    fig.rubberband_canvas.style.cursor = msg['cursor'];\n",
       "};\n",
       "\n",
       "mpl.figure.prototype.handle_message = function (fig, msg) {\n",
       "    fig.message.textContent = msg['message'];\n",
       "};\n",
       "\n",
       "mpl.figure.prototype.handle_draw = function (fig, _msg) {\n",
       "    // Request the server to send over a new figure.\n",
       "    fig.send_draw_message();\n",
       "};\n",
       "\n",
       "mpl.figure.prototype.handle_image_mode = function (fig, msg) {\n",
       "    fig.image_mode = msg['mode'];\n",
       "};\n",
       "\n",
       "mpl.figure.prototype.handle_history_buttons = function (fig, msg) {\n",
       "    for (var key in msg) {\n",
       "        if (!(key in fig.buttons)) {\n",
       "            continue;\n",
       "        }\n",
       "        fig.buttons[key].disabled = !msg[key];\n",
       "        fig.buttons[key].setAttribute('aria-disabled', !msg[key]);\n",
       "    }\n",
       "};\n",
       "\n",
       "mpl.figure.prototype.handle_navigate_mode = function (fig, msg) {\n",
       "    if (msg['mode'] === 'PAN') {\n",
       "        fig.buttons['Pan'].classList.add('active');\n",
       "        fig.buttons['Zoom'].classList.remove('active');\n",
       "    } else if (msg['mode'] === 'ZOOM') {\n",
       "        fig.buttons['Pan'].classList.remove('active');\n",
       "        fig.buttons['Zoom'].classList.add('active');\n",
       "    } else {\n",
       "        fig.buttons['Pan'].classList.remove('active');\n",
       "        fig.buttons['Zoom'].classList.remove('active');\n",
       "    }\n",
       "};\n",
       "\n",
       "mpl.figure.prototype.updated_canvas_event = function () {\n",
       "    // Called whenever the canvas gets updated.\n",
       "    this.send_message('ack', {});\n",
       "};\n",
       "\n",
       "// A function to construct a web socket function for onmessage handling.\n",
       "// Called in the figure constructor.\n",
       "mpl.figure.prototype._make_on_message_function = function (fig) {\n",
       "    return function socket_on_message(evt) {\n",
       "        if (evt.data instanceof Blob) {\n",
       "            var img = evt.data;\n",
       "            if (img.type !== 'image/png') {\n",
       "                /* FIXME: We get \"Resource interpreted as Image but\n",
       "                 * transferred with MIME type text/plain:\" errors on\n",
       "                 * Chrome.  But how to set the MIME type?  It doesn't seem\n",
       "                 * to be part of the websocket stream */\n",
       "                img.type = 'image/png';\n",
       "            }\n",
       "\n",
       "            /* Free the memory for the previous frames */\n",
       "            if (fig.imageObj.src) {\n",
       "                (window.URL || window.webkitURL).revokeObjectURL(\n",
       "                    fig.imageObj.src\n",
       "                );\n",
       "            }\n",
       "\n",
       "            fig.imageObj.src = (window.URL || window.webkitURL).createObjectURL(\n",
       "                img\n",
       "            );\n",
       "            fig.updated_canvas_event();\n",
       "            fig.waiting = false;\n",
       "            return;\n",
       "        } else if (\n",
       "            typeof evt.data === 'string' &&\n",
       "            evt.data.slice(0, 21) === 'data:image/png;base64'\n",
       "        ) {\n",
       "            fig.imageObj.src = evt.data;\n",
       "            fig.updated_canvas_event();\n",
       "            fig.waiting = false;\n",
       "            return;\n",
       "        }\n",
       "\n",
       "        var msg = JSON.parse(evt.data);\n",
       "        var msg_type = msg['type'];\n",
       "\n",
       "        // Call the  \"handle_{type}\" callback, which takes\n",
       "        // the figure and JSON message as its only arguments.\n",
       "        try {\n",
       "            var callback = fig['handle_' + msg_type];\n",
       "        } catch (e) {\n",
       "            console.log(\n",
       "                \"No handler for the '\" + msg_type + \"' message type: \",\n",
       "                msg\n",
       "            );\n",
       "            return;\n",
       "        }\n",
       "\n",
       "        if (callback) {\n",
       "            try {\n",
       "                // console.log(\"Handling '\" + msg_type + \"' message: \", msg);\n",
       "                callback(fig, msg);\n",
       "            } catch (e) {\n",
       "                console.log(\n",
       "                    \"Exception inside the 'handler_\" + msg_type + \"' callback:\",\n",
       "                    e,\n",
       "                    e.stack,\n",
       "                    msg\n",
       "                );\n",
       "            }\n",
       "        }\n",
       "    };\n",
       "};\n",
       "\n",
       "// from https://stackoverflow.com/questions/1114465/getting-mouse-location-in-canvas\n",
       "mpl.findpos = function (e) {\n",
       "    //this section is from http://www.quirksmode.org/js/events_properties.html\n",
       "    var targ;\n",
       "    if (!e) {\n",
       "        e = window.event;\n",
       "    }\n",
       "    if (e.target) {\n",
       "        targ = e.target;\n",
       "    } else if (e.srcElement) {\n",
       "        targ = e.srcElement;\n",
       "    }\n",
       "    if (targ.nodeType === 3) {\n",
       "        // defeat Safari bug\n",
       "        targ = targ.parentNode;\n",
       "    }\n",
       "\n",
       "    // pageX,Y are the mouse positions relative to the document\n",
       "    var boundingRect = targ.getBoundingClientRect();\n",
       "    var x = e.pageX - (boundingRect.left + document.body.scrollLeft);\n",
       "    var y = e.pageY - (boundingRect.top + document.body.scrollTop);\n",
       "\n",
       "    return { x: x, y: y };\n",
       "};\n",
       "\n",
       "/*\n",
       " * return a copy of an object with only non-object keys\n",
       " * we need this to avoid circular references\n",
       " * https://stackoverflow.com/a/24161582/3208463\n",
       " */\n",
       "function simpleKeys(original) {\n",
       "    return Object.keys(original).reduce(function (obj, key) {\n",
       "        if (typeof original[key] !== 'object') {\n",
       "            obj[key] = original[key];\n",
       "        }\n",
       "        return obj;\n",
       "    }, {});\n",
       "}\n",
       "\n",
       "mpl.figure.prototype.mouse_event = function (event, name) {\n",
       "    var canvas_pos = mpl.findpos(event);\n",
       "\n",
       "    if (name === 'button_press') {\n",
       "        this.canvas.focus();\n",
       "        this.canvas_div.focus();\n",
       "    }\n",
       "\n",
       "    var x = canvas_pos.x * this.ratio;\n",
       "    var y = canvas_pos.y * this.ratio;\n",
       "\n",
       "    this.send_message(name, {\n",
       "        x: x,\n",
       "        y: y,\n",
       "        button: event.button,\n",
       "        step: event.step,\n",
       "        guiEvent: simpleKeys(event),\n",
       "    });\n",
       "\n",
       "    /* This prevents the web browser from automatically changing to\n",
       "     * the text insertion cursor when the button is pressed.  We want\n",
       "     * to control all of the cursor setting manually through the\n",
       "     * 'cursor' event from matplotlib */\n",
       "    event.preventDefault();\n",
       "    return false;\n",
       "};\n",
       "\n",
       "mpl.figure.prototype._key_event_extra = function (_event, _name) {\n",
       "    // Handle any extra behaviour associated with a key event\n",
       "};\n",
       "\n",
       "mpl.figure.prototype.key_event = function (event, name) {\n",
       "    // Prevent repeat events\n",
       "    if (name === 'key_press') {\n",
       "        if (event.key === this._key) {\n",
       "            return;\n",
       "        } else {\n",
       "            this._key = event.key;\n",
       "        }\n",
       "    }\n",
       "    if (name === 'key_release') {\n",
       "        this._key = null;\n",
       "    }\n",
       "\n",
       "    var value = '';\n",
       "    if (event.ctrlKey && event.key !== 'Control') {\n",
       "        value += 'ctrl+';\n",
       "    }\n",
       "    else if (event.altKey && event.key !== 'Alt') {\n",
       "        value += 'alt+';\n",
       "    }\n",
       "    else if (event.shiftKey && event.key !== 'Shift') {\n",
       "        value += 'shift+';\n",
       "    }\n",
       "\n",
       "    value += 'k' + event.key;\n",
       "\n",
       "    this._key_event_extra(event, name);\n",
       "\n",
       "    this.send_message(name, { key: value, guiEvent: simpleKeys(event) });\n",
       "    return false;\n",
       "};\n",
       "\n",
       "mpl.figure.prototype.toolbar_button_onclick = function (name) {\n",
       "    if (name === 'download') {\n",
       "        this.handle_save(this, null);\n",
       "    } else {\n",
       "        this.send_message('toolbar_button', { name: name });\n",
       "    }\n",
       "};\n",
       "\n",
       "mpl.figure.prototype.toolbar_button_onmouseover = function (tooltip) {\n",
       "    this.message.textContent = tooltip;\n",
       "};\n",
       "\n",
       "///////////////// REMAINING CONTENT GENERATED BY embed_js.py /////////////////\n",
       "// prettier-ignore\n",
       "var _JSXTOOLS_RESIZE_OBSERVER=function(A){var t,i=new WeakMap,n=new WeakMap,a=new WeakMap,r=new WeakMap,o=new Set;function s(e){if(!(this instanceof s))throw new TypeError(\"Constructor requires 'new' operator\");i.set(this,e)}function h(){throw new TypeError(\"Function is not a constructor\")}function c(e,t,i,n){e=0 in arguments?Number(arguments[0]):0,t=1 in arguments?Number(arguments[1]):0,i=2 in arguments?Number(arguments[2]):0,n=3 in arguments?Number(arguments[3]):0,this.right=(this.x=this.left=e)+(this.width=i),this.bottom=(this.y=this.top=t)+(this.height=n),Object.freeze(this)}function d(){t=requestAnimationFrame(d);var s=new WeakMap,p=new Set;o.forEach((function(t){r.get(t).forEach((function(i){var r=t instanceof window.SVGElement,o=a.get(t),d=r?0:parseFloat(o.paddingTop),f=r?0:parseFloat(o.paddingRight),l=r?0:parseFloat(o.paddingBottom),u=r?0:parseFloat(o.paddingLeft),g=r?0:parseFloat(o.borderTopWidth),m=r?0:parseFloat(o.borderRightWidth),w=r?0:parseFloat(o.borderBottomWidth),b=u+f,F=d+l,v=(r?0:parseFloat(o.borderLeftWidth))+m,W=g+w,y=r?0:t.offsetHeight-W-t.clientHeight,E=r?0:t.offsetWidth-v-t.clientWidth,R=b+v,z=F+W,M=r?t.width:parseFloat(o.width)-R-E,O=r?t.height:parseFloat(o.height)-z-y;if(n.has(t)){var k=n.get(t);if(k[0]===M&&k[1]===O)return}n.set(t,[M,O]);var S=Object.create(h.prototype);S.target=t,S.contentRect=new c(u,d,M,O),s.has(i)||(s.set(i,[]),p.add(i)),s.get(i).push(S)}))})),p.forEach((function(e){i.get(e).call(e,s.get(e),e)}))}return s.prototype.observe=function(i){if(i instanceof window.Element){r.has(i)||(r.set(i,new Set),o.add(i),a.set(i,window.getComputedStyle(i)));var n=r.get(i);n.has(this)||n.add(this),cancelAnimationFrame(t),t=requestAnimationFrame(d)}},s.prototype.unobserve=function(i){if(i instanceof window.Element&&r.has(i)){var n=r.get(i);n.has(this)&&(n.delete(this),n.size||(r.delete(i),o.delete(i))),n.size||r.delete(i),o.size||cancelAnimationFrame(t)}},A.DOMRectReadOnly=c,A.ResizeObserver=s,A.ResizeObserverEntry=h,A}; // eslint-disable-line\n",
       "mpl.toolbar_items = [[\"Home\", \"Reset original view\", \"fa fa-home icon-home\", \"home\"], [\"Back\", \"Back to previous view\", \"fa fa-arrow-left icon-arrow-left\", \"back\"], [\"Forward\", \"Forward to next view\", \"fa fa-arrow-right icon-arrow-right\", \"forward\"], [\"\", \"\", \"\", \"\"], [\"Pan\", \"Left button pans, Right button zooms\\nx/y fixes axis, CTRL fixes aspect\", \"fa fa-arrows icon-move\", \"pan\"], [\"Zoom\", \"Zoom to rectangle\\nx/y fixes axis\", \"fa fa-square-o icon-check-empty\", \"zoom\"], [\"\", \"\", \"\", \"\"], [\"Download\", \"Download plot\", \"fa fa-floppy-o icon-save\", \"download\"]];\n",
       "\n",
       "mpl.extensions = [\"eps\", \"jpeg\", \"pgf\", \"pdf\", \"png\", \"ps\", \"raw\", \"svg\", \"tif\"];\n",
       "\n",
       "mpl.default_extension = \"png\";/* global mpl */\n",
       "\n",
       "var comm_websocket_adapter = function (comm) {\n",
       "    // Create a \"websocket\"-like object which calls the given IPython comm\n",
       "    // object with the appropriate methods. Currently this is a non binary\n",
       "    // socket, so there is still some room for performance tuning.\n",
       "    var ws = {};\n",
       "\n",
       "    ws.binaryType = comm.kernel.ws.binaryType;\n",
       "    ws.readyState = comm.kernel.ws.readyState;\n",
       "    function updateReadyState(_event) {\n",
       "        if (comm.kernel.ws) {\n",
       "            ws.readyState = comm.kernel.ws.readyState;\n",
       "        } else {\n",
       "            ws.readyState = 3; // Closed state.\n",
       "        }\n",
       "    }\n",
       "    comm.kernel.ws.addEventListener('open', updateReadyState);\n",
       "    comm.kernel.ws.addEventListener('close', updateReadyState);\n",
       "    comm.kernel.ws.addEventListener('error', updateReadyState);\n",
       "\n",
       "    ws.close = function () {\n",
       "        comm.close();\n",
       "    };\n",
       "    ws.send = function (m) {\n",
       "        //console.log('sending', m);\n",
       "        comm.send(m);\n",
       "    };\n",
       "    // Register the callback with on_msg.\n",
       "    comm.on_msg(function (msg) {\n",
       "        //console.log('receiving', msg['content']['data'], msg);\n",
       "        var data = msg['content']['data'];\n",
       "        if (data['blob'] !== undefined) {\n",
       "            data = {\n",
       "                data: new Blob(msg['buffers'], { type: data['blob'] }),\n",
       "            };\n",
       "        }\n",
       "        // Pass the mpl event to the overridden (by mpl) onmessage function.\n",
       "        ws.onmessage(data);\n",
       "    });\n",
       "    return ws;\n",
       "};\n",
       "\n",
       "mpl.mpl_figure_comm = function (comm, msg) {\n",
       "    // This is the function which gets called when the mpl process\n",
       "    // starts-up an IPython Comm through the \"matplotlib\" channel.\n",
       "\n",
       "    var id = msg.content.data.id;\n",
       "    // Get hold of the div created by the display call when the Comm\n",
       "    // socket was opened in Python.\n",
       "    var element = document.getElementById(id);\n",
       "    var ws_proxy = comm_websocket_adapter(comm);\n",
       "\n",
       "    function ondownload(figure, _format) {\n",
       "        window.open(figure.canvas.toDataURL());\n",
       "    }\n",
       "\n",
       "    var fig = new mpl.figure(id, ws_proxy, ondownload, element);\n",
       "\n",
       "    // Call onopen now - mpl needs it, as it is assuming we've passed it a real\n",
       "    // web socket which is closed, not our websocket->open comm proxy.\n",
       "    ws_proxy.onopen();\n",
       "\n",
       "    fig.parent_element = element;\n",
       "    fig.cell_info = mpl.find_output_cell(\"<div id='\" + id + \"'></div>\");\n",
       "    if (!fig.cell_info) {\n",
       "        console.error('Failed to find cell for figure', id, fig);\n",
       "        return;\n",
       "    }\n",
       "    fig.cell_info[0].output_area.element.on(\n",
       "        'cleared',\n",
       "        { fig: fig },\n",
       "        fig._remove_fig_handler\n",
       "    );\n",
       "};\n",
       "\n",
       "mpl.figure.prototype.handle_close = function (fig, msg) {\n",
       "    var width = fig.canvas.width / fig.ratio;\n",
       "    fig.cell_info[0].output_area.element.off(\n",
       "        'cleared',\n",
       "        fig._remove_fig_handler\n",
       "    );\n",
       "    fig.resizeObserverInstance.unobserve(fig.canvas_div);\n",
       "\n",
       "    // Update the output cell to use the data from the current canvas.\n",
       "    fig.push_to_output();\n",
       "    var dataURL = fig.canvas.toDataURL();\n",
       "    // Re-enable the keyboard manager in IPython - without this line, in FF,\n",
       "    // the notebook keyboard shortcuts fail.\n",
       "    IPython.keyboard_manager.enable();\n",
       "    fig.parent_element.innerHTML =\n",
       "        '<img src=\"' + dataURL + '\" width=\"' + width + '\">';\n",
       "    fig.close_ws(fig, msg);\n",
       "};\n",
       "\n",
       "mpl.figure.prototype.close_ws = function (fig, msg) {\n",
       "    fig.send_message('closing', msg);\n",
       "    // fig.ws.close()\n",
       "};\n",
       "\n",
       "mpl.figure.prototype.push_to_output = function (_remove_interactive) {\n",
       "    // Turn the data on the canvas into data in the output cell.\n",
       "    var width = this.canvas.width / this.ratio;\n",
       "    var dataURL = this.canvas.toDataURL();\n",
       "    this.cell_info[1]['text/html'] =\n",
       "        '<img src=\"' + dataURL + '\" width=\"' + width + '\">';\n",
       "};\n",
       "\n",
       "mpl.figure.prototype.updated_canvas_event = function () {\n",
       "    // Tell IPython that the notebook contents must change.\n",
       "    IPython.notebook.set_dirty(true);\n",
       "    this.send_message('ack', {});\n",
       "    var fig = this;\n",
       "    // Wait a second, then push the new image to the DOM so\n",
       "    // that it is saved nicely (might be nice to debounce this).\n",
       "    setTimeout(function () {\n",
       "        fig.push_to_output();\n",
       "    }, 1000);\n",
       "};\n",
       "\n",
       "mpl.figure.prototype._init_toolbar = function () {\n",
       "    var fig = this;\n",
       "\n",
       "    var toolbar = document.createElement('div');\n",
       "    toolbar.classList = 'btn-toolbar';\n",
       "    this.root.appendChild(toolbar);\n",
       "\n",
       "    function on_click_closure(name) {\n",
       "        return function (_event) {\n",
       "            return fig.toolbar_button_onclick(name);\n",
       "        };\n",
       "    }\n",
       "\n",
       "    function on_mouseover_closure(tooltip) {\n",
       "        return function (event) {\n",
       "            if (!event.currentTarget.disabled) {\n",
       "                return fig.toolbar_button_onmouseover(tooltip);\n",
       "            }\n",
       "        };\n",
       "    }\n",
       "\n",
       "    fig.buttons = {};\n",
       "    var buttonGroup = document.createElement('div');\n",
       "    buttonGroup.classList = 'btn-group';\n",
       "    var button;\n",
       "    for (var toolbar_ind in mpl.toolbar_items) {\n",
       "        var name = mpl.toolbar_items[toolbar_ind][0];\n",
       "        var tooltip = mpl.toolbar_items[toolbar_ind][1];\n",
       "        var image = mpl.toolbar_items[toolbar_ind][2];\n",
       "        var method_name = mpl.toolbar_items[toolbar_ind][3];\n",
       "\n",
       "        if (!name) {\n",
       "            /* Instead of a spacer, we start a new button group. */\n",
       "            if (buttonGroup.hasChildNodes()) {\n",
       "                toolbar.appendChild(buttonGroup);\n",
       "            }\n",
       "            buttonGroup = document.createElement('div');\n",
       "            buttonGroup.classList = 'btn-group';\n",
       "            continue;\n",
       "        }\n",
       "\n",
       "        button = fig.buttons[name] = document.createElement('button');\n",
       "        button.classList = 'btn btn-default';\n",
       "        button.href = '#';\n",
       "        button.title = name;\n",
       "        button.innerHTML = '<i class=\"fa ' + image + ' fa-lg\"></i>';\n",
       "        button.addEventListener('click', on_click_closure(method_name));\n",
       "        button.addEventListener('mouseover', on_mouseover_closure(tooltip));\n",
       "        buttonGroup.appendChild(button);\n",
       "    }\n",
       "\n",
       "    if (buttonGroup.hasChildNodes()) {\n",
       "        toolbar.appendChild(buttonGroup);\n",
       "    }\n",
       "\n",
       "    // Add the status bar.\n",
       "    var status_bar = document.createElement('span');\n",
       "    status_bar.classList = 'mpl-message pull-right';\n",
       "    toolbar.appendChild(status_bar);\n",
       "    this.message = status_bar;\n",
       "\n",
       "    // Add the close button to the window.\n",
       "    var buttongrp = document.createElement('div');\n",
       "    buttongrp.classList = 'btn-group inline pull-right';\n",
       "    button = document.createElement('button');\n",
       "    button.classList = 'btn btn-mini btn-primary';\n",
       "    button.href = '#';\n",
       "    button.title = 'Stop Interaction';\n",
       "    button.innerHTML = '<i class=\"fa fa-power-off icon-remove icon-large\"></i>';\n",
       "    button.addEventListener('click', function (_evt) {\n",
       "        fig.handle_close(fig, {});\n",
       "    });\n",
       "    button.addEventListener(\n",
       "        'mouseover',\n",
       "        on_mouseover_closure('Stop Interaction')\n",
       "    );\n",
       "    buttongrp.appendChild(button);\n",
       "    var titlebar = this.root.querySelector('.ui-dialog-titlebar');\n",
       "    titlebar.insertBefore(buttongrp, titlebar.firstChild);\n",
       "};\n",
       "\n",
       "mpl.figure.prototype._remove_fig_handler = function (event) {\n",
       "    var fig = event.data.fig;\n",
       "    if (event.target !== this) {\n",
       "        // Ignore bubbled events from children.\n",
       "        return;\n",
       "    }\n",
       "    fig.close_ws(fig, {});\n",
       "};\n",
       "\n",
       "mpl.figure.prototype._root_extra_style = function (el) {\n",
       "    el.style.boxSizing = 'content-box'; // override notebook setting of border-box.\n",
       "};\n",
       "\n",
       "mpl.figure.prototype._canvas_extra_style = function (el) {\n",
       "    // this is important to make the div 'focusable\n",
       "    el.setAttribute('tabindex', 0);\n",
       "    // reach out to IPython and tell the keyboard manager to turn it's self\n",
       "    // off when our div gets focus\n",
       "\n",
       "    // location in version 3\n",
       "    if (IPython.notebook.keyboard_manager) {\n",
       "        IPython.notebook.keyboard_manager.register_events(el);\n",
       "    } else {\n",
       "        // location in version 2\n",
       "        IPython.keyboard_manager.register_events(el);\n",
       "    }\n",
       "};\n",
       "\n",
       "mpl.figure.prototype._key_event_extra = function (event, _name) {\n",
       "    // Check for shift+enter\n",
       "    if (event.shiftKey && event.which === 13) {\n",
       "        this.canvas_div.blur();\n",
       "        // select the cell after this one\n",
       "        var index = IPython.notebook.find_cell_index(this.cell_info[0]);\n",
       "        IPython.notebook.select(index + 1);\n",
       "    }\n",
       "};\n",
       "\n",
       "mpl.figure.prototype.handle_save = function (fig, _msg) {\n",
       "    fig.ondownload(fig, null);\n",
       "};\n",
       "\n",
       "mpl.find_output_cell = function (html_output) {\n",
       "    // Return the cell and output element which can be found *uniquely* in the notebook.\n",
       "    // Note - this is a bit hacky, but it is done because the \"notebook_saving.Notebook\"\n",
       "    // IPython event is triggered only after the cells have been serialised, which for\n",
       "    // our purposes (turning an active figure into a static one), is too late.\n",
       "    var cells = IPython.notebook.get_cells();\n",
       "    var ncells = cells.length;\n",
       "    for (var i = 0; i < ncells; i++) {\n",
       "        var cell = cells[i];\n",
       "        if (cell.cell_type === 'code') {\n",
       "            for (var j = 0; j < cell.output_area.outputs.length; j++) {\n",
       "                var data = cell.output_area.outputs[j];\n",
       "                if (data.data) {\n",
       "                    // IPython >= 3 moved mimebundle to data attribute of output\n",
       "                    data = data.data;\n",
       "                }\n",
       "                if (data['text/html'] === html_output) {\n",
       "                    return [cell, data, j];\n",
       "                }\n",
       "            }\n",
       "        }\n",
       "    }\n",
       "};\n",
       "\n",
       "// Register the function which deals with the matplotlib target/channel.\n",
       "// The kernel may be null if the page has been refreshed.\n",
       "if (IPython.notebook.kernel !== null) {\n",
       "    IPython.notebook.kernel.comm_manager.register_target(\n",
       "        'matplotlib',\n",
       "        mpl.mpl_figure_comm\n",
       "    );\n",
       "}\n"
      ],
      "text/plain": [
       "<IPython.core.display.Javascript object>"
      ]
     },
     "metadata": {},
     "output_type": "display_data"
    },
    {
     "data": {
      "text/html": [
       "<img src=\"data:image/png;base64,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\" width=\"500.00001324547696\">"
      ],
      "text/plain": [
       "<IPython.core.display.HTML object>"
      ]
     },
     "metadata": {},
     "output_type": "display_data"
    }
   ],
   "source": [
    "fig, ax = plt.subplots(2,1, figsize=(5,5))\n",
    "\n",
    "ax[0].hist(times_rawdata1, bins=20,label=\"N = 2066\")\n",
    "ax[1].hist(times_rawdata2, bins=20,label=\"N = 9225\", color=\"orange\")\n",
    "#plt.ylabel(\"Frecuencia\")\n",
    "plt.xlabel(\"Tiempo (μs)\")\n",
    "ax[0].legend()\n",
    "ax[1].legend()\n",
    "fig.text(0.0001, 0.5, 'Frecuencia', va='center', rotation='vertical')\n",
    "plt.show()\n"
   ]
  },
  {
   "cell_type": "code",
   "execution_count": 103,
   "id": "9c227585",
   "metadata": {},
   "outputs": [],
   "source": [
    "F1, N1 = np.histogram(times_rawdata1, bins=20)"
   ]
  },
  {
   "cell_type": "code",
   "execution_count": 104,
   "id": "b2bd1bc7",
   "metadata": {},
   "outputs": [
    {
     "name": "stderr",
     "output_type": "stream",
     "text": [
      "C:\\Users\\Acer\\AppData\\Local\\Temp\\ipykernel_19508\\1277222602.py:2: RuntimeWarning: overflow encountered in exp\n",
      "  return A*np.exp(-x*B)+C\n"
     ]
    },
    {
     "data": {
      "image/png": "[encoded data removed]",
      "text/plain": [
       "<Figure size 500x500 with 2 Axes>"
      ]
     },
     "metadata": {},
     "output_type": "display_data"
    }
   ],
   "source": [
    "fig, ax = plt.subplots(2,1, figsize=(5,5),gridspec_kw={'height_ratios': [2, 1]})\n",
    "\n",
    "time_fit1 = np.linspace(0,20,21)\n",
    "time_graph1 = np.linspace(0,20,100)\n",
    "muon_graph1 = np.array([len(times_rawdata1)]) \n",
    "\n",
    "for i in range(0, len(F1)):\n",
    "    muon_graph1 = np.append(muon_graph1, muon_graph1[i] - F1[i])\n",
    "    \n",
    "params1, pcov1 = scipy.optimize.curve_fit(expfunction, time_fit1, muon_graph1)\n",
    "\n",
    "residuals1 = muon_graph1 - expfunction(time_fit1,*params1)\n",
    "    \n",
    "ax[0].scatter(time_fit1,muon_graph1,label=\"Datos\",marker=\".\")\n",
    "ax[0].plot(time_graph1, expfunction(time_graph1,*params1),linestyle=\"--\",label=\"Ajuste de curva\",color=\"k\")\n",
    "ax[0].set_xlabel(\"Tiempo (μs)\")\n",
    "ax[0].set_ylabel(\"Número de muones\")\n",
    "ax[0].legend()\n",
    "\n",
    "ax[1].scatter(time_fit1, residuals1, marker=\".\")\n",
    "ax[1].set_ylabel(\"Residuales\")\n",
    "ax[1].set_xlabel(\"Tiempo (μs)\")\n",
    "plt.tight_layout()\n",
    "\n",
    "plt.show()"
   ]
  },
  {
   "cell_type": "code",
   "execution_count": null,
   "id": "0c9c1949",
   "metadata": {},
   "outputs": [],
   "source": []
  },
  {
   "cell_type": "code",
   "execution_count": 107,
   "id": "67347cbb",
   "metadata": {},
   "outputs": [
    {
     "data": {
      "text/plain": [
       "(array([4876, 1693,  957,  581,  393,  221,  160,   97,   65,   48,   35,\n",
       "          24,   16,   14,    9,   11,    7,    9,    5,    4], dtype=int64),\n",
       " array([ 0.04 ,  1.034,  2.028,  3.022,  4.016,  5.01 ,  6.004,  6.998,\n",
       "         7.992,  8.986,  9.98 , 10.974, 11.968, 12.962, 13.956, 14.95 ,\n",
       "        15.944, 16.938, 17.932, 18.926, 19.92 ]))"
      ]
     },
     "execution_count": 107,
     "metadata": {},
     "output_type": "execute_result"
    }
   ],
   "source": [
    "F2, N2 = np.histogram(times_rawdata2, bins=20)\n",
    "F2,N2"
   ]
  },
  {
   "cell_type": "code",
   "execution_count": 114,
   "id": "1c68dd11",
   "metadata": {},
   "outputs": [
    {
     "name": "stderr",
     "output_type": "stream",
     "text": [
      "C:\\Users\\Acer\\AppData\\Local\\Temp\\ipykernel_19508\\1277222602.py:2: RuntimeWarning: overflow encountered in exp\n",
      "  return A*np.exp(-x*B)+C\n"
     ]
    },
    {
     "data": {
      "image/png": "[encoded data removed]",
      "text/plain": [
       "<Figure size 500x500 with 2 Axes>"
      ]
     },
     "metadata": {},
     "output_type": "display_data"
    }
   ],
   "source": [
    "fig, ax = plt.subplots(2,1, figsize=(5,5),gridspec_kw={'height_ratios': [2, 1]})\n",
    "\n",
    "time_fit2 = np.linspace(0,20,21)\n",
    "time_graph2 = np.linspace(0,20,100)\n",
    "muon_graph2 = np.array([len(times_rawdata2)])\n",
    "\n",
    "for i in range(0, len(F2)):\n",
    "    muon_graph2 = np.append(muon_graph2, muon_graph2[i] - F2[i]) #remaining particles\n",
    "    \n",
    "params2, pcov2 = scipy.optimize.curve_fit(expfunction, time_fit2, muon_graph2)\n",
    "\n",
    "residuals2 = muon_graph2 - expfunction(time_fit2,*params2)\n",
    "    \n",
    "ax[0].scatter(time_fit2,muon_graph2,label=\"Datos\",marker=\"o\")\n",
    "ax[0].plot(time_graph2, expfunction(time_graph2,*params2),linestyle=\"--\",label=\"Ajuste de curva\",color=\"k\")\n",
    "ax[0].set_xlabel(\"Tiempo (μs)\")\n",
    "ax[0].set_ylabel(\"Número de muones\")\n",
    "ax[0].legend()\n",
    "\n",
    "ax[1].scatter(time_fit2, residuals2, marker=\"o\")\n",
    "ax[1].set_ylabel(\"Residuales\")\n",
    "ax[1].set_xlabel(\"Tiempo (μs)\")\n",
    "plt.tight_layout()\n",
    "\n",
    "plt.show()"
   ]
  },
  {
   "cell_type": "code",
   "execution_count": 111,
   "id": "90e8d21c",
   "metadata": {},
   "outputs": [
    {
     "data": {
      "text/plain": [
       "(array([8.90154780e+03, 6.26776854e-01, 1.16106570e+02]),\n",
       " array([1.81167424e+02, 2.61089978e-02, 4.88622404e+01]))"
      ]
     },
     "execution_count": 111,
     "metadata": {},
     "output_type": "execute_result"
    }
   ],
   "source": [
    "params2, np.sqrt(np.diag(pcov2))"
   ]
  },
  {
   "cell_type": "code",
   "execution_count": 112,
   "id": "0c8ad1b2",
   "metadata": {},
   "outputs": [
    {
     "name": "stderr",
     "output_type": "stream",
     "text": [
      "C:\\Users\\Acer\\AppData\\Local\\Temp\\ipykernel_19508\\1277222602.py:5: RuntimeWarning: overflow encountered in exp\n",
      "  return A*np.exp(-x*B)\n"
     ]
    },
    {
     "data": {
      "text/plain": [
       "(array([8.96727739e+03, 5.96366168e-01]),\n",
       " array([1.96137755e+02, 2.42299332e-02]))"
      ]
     },
     "execution_count": 112,
     "metadata": {},
     "output_type": "execute_result"
    }
   ],
   "source": [
    "params22, pcov22 = scipy.optimize.curve_fit(expfunction2, time_fit2, muon_graph2)\n",
    "params22, np.sqrt(np.diag(pcov22))"
   ]
  },
  {
   "cell_type": "code",
   "execution_count": 117,
   "id": "49894c6e",
   "metadata": {},
   "outputs": [
    {
     "name": "stderr",
     "output_type": "stream",
     "text": [
      "C:\\Users\\Acer\\AppData\\Local\\Temp\\ipykernel_19508\\1277222602.py:2: RuntimeWarning: overflow encountered in exp\n",
      "  return A*np.exp(-x*B)+C\n"
     ]
    },
    {
     "data": {
      "text/plain": [
       "(array([8.90155342e+03, 6.26777206e-01, 1.28476449e-03]),\n",
       " array([1.81559692e+02, 2.60393256e-02, 4.88107163e+01]))"
      ]
     },
     "execution_count": 117,
     "metadata": {},
     "output_type": "execute_result"
    }
   ],
   "source": [
    "muon_graph2_corrected = muon_graph2 - params2[2]\n",
    "params23, pcov23 = scipy.optimize.curve_fit(expfunction, time_fit2, muon_graph2_corrected)\n",
    "params23, np.sqrt(np.diag(pcov23))"
   ]
  },
  {
   "cell_type": "code",
   "execution_count": 118,
   "id": "d0f451eb",
   "metadata": {},
   "outputs": [
    {
     "data": {
      "text/plain": [
       "array([9225, 4349, 2656, 1699, 1118,  725,  504,  344,  247,  182,  134,\n",
       "         99,   75,   59,   45,   36,   25,   18,    9,    4], dtype=int64)"
      ]
     },
     "execution_count": 118,
     "metadata": {},
     "output_type": "execute_result"
    }
   ],
   "source": [
    "muon_graph2[:-1]"
   ]
  },
  {
   "cell_type": "code",
   "execution_count": 119,
   "id": "005f0258",
   "metadata": {},
   "outputs": [
    {
     "data": {
      "text/plain": [
       "(array([-0.35371463,  8.56942697]), array([0.01003749, 0.11154722]))"
      ]
     },
     "execution_count": 119,
     "metadata": {},
     "output_type": "execute_result"
    }
   ],
   "source": [
    "params24, pcov24 = scipy.optimize.curve_fit(linearfunction, time_fit2[:-1], np.log(muon_graph2[:-1]))\n",
    "params24, np.sqrt(np.diag(pcov24))"
   ]
  },
  {
   "cell_type": "code",
   "execution_count": 120,
   "id": "d631a11a",
   "metadata": {},
   "outputs": [
    {
     "data": {
      "text/plain": [
       "[<matplotlib.lines.Line2D at 0x21f92423cd0>]"
      ]
     },
     "execution_count": 120,
     "metadata": {},
     "output_type": "execute_result"
    },
    {
     "data": {
      "image/png": "[encoded data removed]",
      "text/plain": [
       "<Figure size 640x480 with 1 Axes>"
      ]
     },
     "metadata": {},
     "output_type": "display_data"
    }
   ],
   "source": [
    "plt.scatter(time_fit2[:-1], np.log(muon_graph2[:-1]))\n",
    "plt.plot(time_fit2[:-1], linearfunction(time_fit2[:-1],*params24))"
   ]
  },
  {
   "cell_type": "code",
   "execution_count": 121,
   "id": "3431aa6d",
   "metadata": {},
   "outputs": [
    {
     "data": {
      "text/plain": [
       "1.8684268882204422"
      ]
     },
     "execution_count": 121,
     "metadata": {},
     "output_type": "execute_result"
    }
   ],
   "source": [
    "1/5.35209596e-01"
   ]
  },
  {
   "cell_type": "code",
   "execution_count": 122,
   "id": "226b4a21",
   "metadata": {},
   "outputs": [
    {
     "data": {
      "text/plain": [
       "2.0"
      ]
     },
     "execution_count": 122,
     "metadata": {},
     "output_type": "execute_result"
    }
   ],
   "source": [
    "tau_obs = 1/5e-1\n",
    "tau_obs"
   ]
  },
  {
   "cell_type": "code",
   "execution_count": 123,
   "id": "b8f40faf",
   "metadata": {},
   "outputs": [
    {
     "data": {
      "text/plain": [
       "0.04"
      ]
     },
     "execution_count": 123,
     "metadata": {},
     "output_type": "execute_result"
    }
   ],
   "source": [
    "1e-2/(5e-1)**2"
   ]
  },
  {
   "cell_type": "code",
   "execution_count": 124,
   "id": "125b54ab",
   "metadata": {},
   "outputs": [],
   "source": [
    "muon_graph1_corrected = muon_graph1 - params1[2]"
   ]
  },
  {
   "cell_type": "code",
   "execution_count": 125,
   "id": "84c70e15",
   "metadata": {},
   "outputs": [
    {
     "data": {
      "text/plain": [
       "array([ 2.04434383e+03,  1.06534383e+03,  6.72343833e+02,  4.11343833e+02,\n",
       "        2.59343833e+02,  1.53343833e+02,  9.13438329e+01,  6.03438329e+01,\n",
       "        3.43438329e+01,  1.63438329e+01,  6.34383294e+00,  3.43832944e-01,\n",
       "       -6.56167056e-01, -3.65616706e+00, -5.65616706e+00, -6.65616706e+00,\n",
       "       -7.65616706e+00, -9.65616706e+00, -1.06561671e+01, -1.46561671e+01,\n",
       "       -2.16561671e+01])"
      ]
     },
     "execution_count": 125,
     "metadata": {},
     "output_type": "execute_result"
    }
   ],
   "source": [
    "muon_graph1_corrected"
   ]
  },
  {
   "cell_type": "code",
   "execution_count": 126,
   "id": "4592550f",
   "metadata": {},
   "outputs": [
    {
     "name": "stderr",
     "output_type": "stream",
     "text": [
      "C:\\Users\\Acer\\AppData\\Local\\Temp\\ipykernel_19508\\1277222602.py:5: RuntimeWarning: overflow encountered in exp\n",
      "  return A*np.exp(-x*B)\n"
     ]
    }
   ],
   "source": [
    "params12, pcov12 = scipy.optimize.curve_fit(expfunction2, time_fit1, muon_graph1)"
   ]
  },
  {
   "cell_type": "code",
   "execution_count": 127,
   "id": "1bb2eef2",
   "metadata": {},
   "outputs": [
    {
     "data": {
      "text/plain": [
       "(array([2.01882851e+03, 5.30174265e-01]),\n",
       " array([3.09114588e+01, 1.46571581e-02]))"
      ]
     },
     "execution_count": 127,
     "metadata": {},
     "output_type": "execute_result"
    }
   ],
   "source": [
    "params12, np.sqrt(np.diag(pcov12))"
   ]
  },
  {
   "cell_type": "code",
   "execution_count": 129,
   "id": "d77d854b",
   "metadata": {},
   "outputs": [
    {
     "data": {
      "text/plain": [
       "1.8861722758270811"
      ]
     },
     "execution_count": 129,
     "metadata": {},
     "output_type": "execute_result"
    }
   ],
   "source": [
    "1/5.30174265e-1"
   ]
  },
  {
   "cell_type": "code",
   "execution_count": 358,
   "id": "6a9b5edc",
   "metadata": {},
   "outputs": [
    {
     "data": {
      "text/plain": [
       "0.038419506864285226"
      ]
     },
     "execution_count": 358,
     "metadata": {},
     "output_type": "execute_result"
    }
   ],
   "source": [
    "0.009/(4.84e-01)**2"
   ]
  },
  {
   "cell_type": "code",
   "execution_count": 343,
   "id": "0606ef44",
   "metadata": {},
   "outputs": [],
   "source": [
    "rho,tau_plus,tau_minus = sym.symbols(\"rho,tau_plus,tau_minus\",real=True)\n",
    "#tau_plus = 2.1969\n",
    "#tau_minus = 2.043\n",
    "eq = sym.Eq(tau_obs, (1+rho)*tau_minus*tau_plus/(rho*tau_minus + tau_plus))"
   ]
  },
  {
   "cell_type": "code",
   "execution_count": 344,
   "id": "f67a706f",
   "metadata": {},
   "outputs": [
    {
     "data": {
      "text/plain": [
       "[tau_plus*(2.0 - tau_minus)/(tau_minus*(tau_plus - 2.0))]"
      ]
     },
     "execution_count": 344,
     "metadata": {},
     "output_type": "execute_result"
    }
   ],
   "source": [
    "sym.solve(eq,rho)"
   ]
  },
  {
   "cell_type": "code",
   "execution_count": 340,
   "id": "2a2a922f",
   "metadata": {},
   "outputs": [],
   "source": [
    "hbarra = 6.582119569e-25 #GeV\n",
    "m = 0.10566 #GeV"
   ]
  },
  {
   "cell_type": "code",
   "execution_count": 341,
   "id": "6bea281a",
   "metadata": {},
   "outputs": [
    {
     "data": {
      "text/plain": [
       "1.2197386717994762e-05"
      ]
     },
     "execution_count": 341,
     "metadata": {},
     "output_type": "execute_result"
    }
   ],
   "source": [
    "np.sqrt(192*np.pi**3*hbarra/(m**5*tau_obs*1e-6))"
   ]
  },
  {
   "cell_type": "code",
   "execution_count": 354,
   "id": "a7c65544",
   "metadata": {},
   "outputs": [
    {
     "data": {
      "text/plain": [
       "1.2197386717994762e-07"
      ]
     },
     "execution_count": 354,
     "metadata": {},
     "output_type": "execute_result"
    }
   ],
   "source": [
    "sigma_fermi = np.sqrt(192*np.pi**3*hbarra/(m**5)) * (0.04*1e-6) *np.sqrt(1/(tau_obs*1e-6)**3)/2\n",
    "sigma_fermi"
   ]
  },
  {
   "cell_type": "code",
   "execution_count": 365,
   "id": "c6d21864",
   "metadata": {},
   "outputs": [
    {
     "data": {
      "text/plain": [
       "1.1989377051192723e-05"
      ]
     },
     "execution_count": 365,
     "metadata": {},
     "output_type": "execute_result"
    }
   ],
   "source": [
    "np.sqrt(192*np.pi**3*hbarra/(m**5*2.07*1e-6))"
   ]
  },
  {
   "cell_type": "code",
   "execution_count": 359,
   "id": "903f865d",
   "metadata": {},
   "outputs": [
    {
     "data": {
      "text/plain": [
       "1.1583939179896353e-07"
      ]
     },
     "execution_count": 359,
     "metadata": {},
     "output_type": "execute_result"
    }
   ],
   "source": [
    "np.sqrt(192*np.pi**3*hbarra/(m**5)) * (0.04*1e-6) *np.sqrt(1/(2.07*1e-6)**3)/2"
   ]
  },
  {
   "cell_type": "code",
   "execution_count": null,
   "id": "73a4b4f7",
   "metadata": {},
   "outputs": [],
   "source": []
  }
 ],
 "metadata": {
  "kernelspec": {
   "display_name": "Python 3 (ipykernel)",
   "language": "python",
   "name": "python3"
  },
  "language_info": {
   "codemirror_mode": {
    "name": "ipython",
    "version": 3
   },
   "file_extension": ".py",
   "mimetype": "text/x-python",
   "name": "python",
   "nbconvert_exporter": "python",
   "pygments_lexer": "ipython3",
   "version": "3.9.13"
  }
 },
 "nbformat": 4,
 "nbformat_minor": 5
}
