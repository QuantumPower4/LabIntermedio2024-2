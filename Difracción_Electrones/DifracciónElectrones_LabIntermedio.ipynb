{
 "cells": [
  {
   "cell_type": "markdown",
   "metadata": {
    "id": "nIHICDOdXy-1"
   },
   "source": [
    "# Bitácora 2 - Difracción de Electrones"
   ]
  },
  {
   "cell_type": "markdown",
   "metadata": {
    "id": "g-mp64enZvZm"
   },
   "source": [
    "## Datos básicos"
   ]
  },
  {
   "cell_type": "markdown",
   "metadata": {
    "id": "dfUPMR57YMG-"
   },
   "source": [
    "\n",
    "Universdad de los Andes, Bogotá, Colombia\n",
    "\n",
    "Sesión 1: 30 de agosto de 2024 (16:00 - 18:00)\n",
    "Sesión 2: 6 de septiembre de 2024 (17:000 - 18:00)\n",
    "\n",
    "\n",
    "\n",
    "Integrante / Número de estudiante / Número de celular.\n",
    "\n",
    "Juan Sebastián Sánchez / blabla bla / 3002287930.\n",
    "\n",
    "Juan José Guzmán / 202214541 / 3054457204.\n",
    "\n",
    "\n",
    "\n",
    "Grupo 5 - Laboratorio Intermedio - Sección 2\n"
   ]
  },
  {
   "cell_type": "markdown",
   "metadata": {
    "id": "5konAYlIZzik"
   },
   "source": [
    "## Objetivos del día y expectativas"
   ]
  },
  {
   "cell_type": "markdown",
   "metadata": {
    "id": "QGb_LwTTZ1v5"
   },
   "source": [
    "De forma general, se quiere observar la dualidad onda-partícula en electrones por medio de difracción de Debye-Scherrer, verificar la validez de la ecuación de de Broglie para la longitud de onda de los electrone y medir experimentalmente las distancias reticulares interplanares para el grafito.\n",
    "\n",
    "Especificamente, se formará un patrón de difracción en forma de dos anillos concéntricos y se tomarán medidas de sus diámetros para cada valor de voltaje para calcular y comparar la longitud de onda de De Broglie y la longitud de onda de Bragg. Adicionalmente, con estos datos se busca estimar experimentalmente las primeras dos distancias reticulares interplanares y la constante de Planck."
   ]
  },
  {
   "cell_type": "markdown",
   "metadata": {
    "id": "2dZZl3lHa6Pg"
   },
   "source": [
    "## Marco teórico (preinforme)"
   ]
  },
  {
   "cell_type": "markdown",
   "metadata": {
    "id": "dT31AUqwbKqL"
   },
   "source": [
    "El efecto fotoeléctrico y la ley de Planck fueron la base de la dualidad onda-partícula. En el efecto fotoeléctrico se propone que la energía de los fotones viene dada por la ecuación $E = h\\nu$; se observa una clara relación entre $E$ y la frecuencia $\\nu$, propiedades que anteriormente se creían incompatibles ya que la energía se relacionaba con las partículas y la frecuencia a las ondas. Esta dualidad entre onda y partícula llevaron a De Broglie a proponer que todas las partículas elementales muestran un comportamiento ondulatorio. Para una partícula con momento $p$ se le asocia una longitud de onda $\\lambda$ mediante la ecuación $\\lambda=\\frac{h}{p}$.\n",
    "\n",
    "Para el experimento, se trabajará con electrones y voltajes para poder acelerarlos. Por esta razón se hace uso de la conservación de la energía para calcular la longitud de onda de los electrones.\n",
    "\n",
    "\\begin{equation}\n",
    "    eV = \\frac{p^2}{2m_e} = \\frac{h^2}{2m_e \\lambda^2}\n",
    "\\end{equation}\n",
    "De esta ecuación se puede despejar $\\lambda$.\n",
    "\n",
    "\\begin{equation}\n",
    "    \\lambda = \\frac{h}{\\sqrt{2eVm_e}}\n",
    "\\end{equation}\n",
    "\n",
    "De la anterior ecuación podemos obtener longitudes de onda del orden de pico metros con tan solo algunos kilovoltios. Este tamaño es ideal para el experimento ya que las distancias entre átomos de un cristal son cercanas a este orden de magnitud, por lo cual, se puede estudiar la naturaleza ondulatoria de los electrones que inciden en la red cristalina.\n",
    "\n",
    "Al momento en que los electrones inciden sobre el cristal, estos se difractan siguiendo la ley de Bragg de manera especular, es decir, se reflejan con el mismo ángulo en el que inciden. Este efecto genera un patrón de interferencia cuando se considera una red cristalina y las diferentes reflexiones interfieren entre ellas constructivamente. Para que la interferencia sea constructiva el camino adicional recorrido por la onda del plano inferior debe cumplir la siguiente ecuación:\n",
    "\n",
    "\\begin{equation}\n",
    "    2d_i \\sin{\\theta} = n\\lambda\n",
    "\\end{equation}\n",
    "\n",
    "Esta ecuación es válida para $\\lambda \\leq 2d_i$, conocida como la ley de Bragg.\n",
    "\n",
    "Para esta práctica el material cristalino será grafito. Este se estructura en forma de hexágono con distancias interplanares $d_i$. Los cristales están orientados de manera aleatoria con el fin de encontrar un plano con una inclinación que permita obtener interferencia constructiva y sea posible ver el patrón de interferencia en una pantalla."
   ]
  },
  {
   "cell_type": "markdown",
   "metadata": {
    "id": "HcENX3lEa8ka"
   },
   "source": [
    "## Metodología experimental"
   ]
  },
  {
   "cell_type": "markdown",
   "metadata": {
    "id": "IhS0kbBWbL68"
   },
   "source": [
    "Los componentes básicos son: Tubo de difracción de electrones donde estará la muestra de grsfito, fuente de alto voltaje de 10kV para controlar la aceleración de los electrones, 6 cables para las conexiones, un soporte para el tubo y un calibrador.\n",
    "\n",
    "El montaje consta de dos configuraciones, una permite observar la muestra de grafito amplificada y la otra permite observar el patrón de difracción.\n",
    "\n",
    "\\\\\n",
    "\n",
    "Configuración 1\n",
    "\n",
    "\n",
    "Lo primero es insertar el tubo de difracción de electrones en el soporte correspondiente y tener cuidado al manipularlo debido a la delicadeza de este. Luego, es necesario identificar las ranuras F1, F2,  C (cátodo), X (electrodo de enfoque) y A (ánodo) para conectarles cables siguiendo la figura anterior. Con esto, se consigue que los electrones se desprendan por termo-ionización.\n",
    "\n",
    "Es importante mencionar que no se debe superar los 3kV ni trabajar por periodos largos de tiempo. Una vez observada la geometría de la muestra, tomar una fotografía.\n",
    "\n",
    "En esta parte del montaje se responderán preguntas relacionadas al funcionamiento del sistema, a la descripción de lo que se observa, a los microscopios electrónicos de transmisión y al porqué no se observa un patrón de difracción.\n",
    "\n",
    "\\\\\n",
    "\n",
    "Configuración 2\n",
    "\n",
    "Las conexiones cambian con el fin de observar el patrón de difracción y se muestran en la figura anterior. Cuando las conexiones estén listas, toca empezar a aumentar el voltaje lentamente hasta llegar a 3kV. En este caso, se observarán dos anillos concéntricos, cuyos diámetros cambian según el voltaje. Se tienen que medir los diámetros de estos anillos, junto con su voltaje correspondiente. Se recomienda no pasar los 5kV porque empiezan a formarse rayos X.\n",
    "\n",
    "Las preguntas se dividen en dos actividades. En la primera actividad se pide reportar cada diámetro con su voltaje, medir el ancho de cada anillo para cada voltaje, comparar la longitud de onda de De Broglie con la longitud de onda de Bragg, describir los cambios en los diámetros debido a un imán, calcular el diámetro de los demás anillos no visibles y mostrar las condiciones para que se observe difracción.\n",
    "\n",
    "En la segunda actividad se pide hacer gráficas del diámetro contra el inverso de la raíz cuadrada de V y hacerle una regresión lineal para calcular las distancias interplanares $d_1$ y $d_2$. También se pide estimar la constante de Planck con los datos que se obtuvieron experimentalmente."
   ]
  },
  {
   "cell_type": "markdown",
   "metadata": {
    "id": "DExkM0pxbNXr"
   },
   "source": [
    "## Ubicación de los datos tomados"
   ]
  },
  {
   "cell_type": "code",
   "execution_count": 1,
   "metadata": {
    "colab": {
     "base_uri": "https://localhost:8080/"
    },
    "id": "hCJz0Ac_LCB3",
    "outputId": "8b7c363d-e9c3-49f6-80c7-f6a558125e14"
   },
   "outputs": [
    {
     "name": "stdout",
     "output_type": "stream",
     "text": [
      "Collecting uncertainties\n",
      "  Downloading uncertainties-3.2.2-py3-none-any.whl.metadata (6.9 kB)\n",
      "Downloading uncertainties-3.2.2-py3-none-any.whl (58 kB)\n",
      "\u001b[2K   \u001b[90m━━━━━━━━━━━━━━━━━━━━━━━━━━━━━━━━━━━━━━━━\u001b[0m \u001b[32m58.3/58.3 kB\u001b[0m \u001b[31m972.1 kB/s\u001b[0m eta \u001b[36m0:00:00\u001b[0m\n",
      "\u001b[?25hInstalling collected packages: uncertainties\n",
      "Successfully installed uncertainties-3.2.2\n"
     ]
    }
   ],
   "source": [
    "!pip install uncertainties"
   ]
  },
  {
   "cell_type": "code",
   "execution_count": 2,
   "metadata": {
    "id": "gAooirmRLIrP"
   },
   "outputs": [],
   "source": [
    "import numpy as np\n",
    "import sympy as sym\n",
    "import matplotlib.pyplot as plt\n",
    "from scipy.optimize import curve_fit\n",
    "import pandas as pd\n",
    "import uncertainties as unc\n",
    "\n",
    "def linear_function(X, a, b):\n",
    "    return a * X + b"
   ]
  },
  {
   "cell_type": "code",
   "execution_count": 158,
   "metadata": {
    "id": "n02cdgOULJ-H"
   },
   "outputs": [],
   "source": [
    "D1 = np.array([30.75,28.85,27.7,26.4,25.85,25.3,24.5,24.1,23.35,23.25,22.45])\n",
    "D2 = np.array([52.25,49.7,48.15,46.1,45.45,44.4,42.9,41.9,40.6,40.5,39.8])\n",
    "Espesor1 = np.array([1.5,1,1.1,0.98,0.85,1.5,1.15,1.1,1,1.1,1.2])\n",
    "Espesor2 = np.array([2,1.6,1.3,1.4,1.2,1.3,1.4,1.4,1.4,1.15,1.3])\n",
    "V = np.array([3,3.2,3.4,3.6,3.8,4,4.2,4.4,4.6,4.8,5])\n",
    "sigmaV = np.array([0.1]*len(V))"
   ]
  },
  {
   "cell_type": "code",
   "execution_count": 204,
   "metadata": {
    "colab": {
     "base_uri": "https://localhost:8080/"
    },
    "id": "TsEVR41CWCmP",
    "outputId": "7bc6b3a3-40bd-41e5-b1cd-c088c38d7e00"
   },
   "outputs": [
    {
     "data": {
      "text/plain": [
       "(array([0.29157598, 0.19471977, 0.21440441, 0.19122015, 0.16592708,\n",
       "        0.29293848, 0.22472309, 0.21501648, 0.19557606, 0.21514902,\n",
       "        0.23483952]),\n",
       " array([0.21855348, 0.17552074, 0.14293385, 0.15437442, 0.13243901,\n",
       "        0.14367884, 0.15503586, 0.15523386, 0.15548496, 0.12773542,\n",
       "        0.14451908]),\n",
       " array([0.37342671, 0.3389708 , 0.30950586, 0.28407532, 0.26194606,\n",
       "        0.24254776, 0.22543084, 0.21023656, 0.19667561, 0.18451233,\n",
       "        0.17355305]))"
      ]
     },
     "execution_count": 204,
     "metadata": {},
     "output_type": "execute_result"
    }
   ],
   "source": [
    "m = 9.11e-31 #kg\n",
    "e = 1.6e-19 #C\n",
    "h = 6.626e-34 #Js\n",
    "d1 = 213 #pm\n",
    "d2 = 123 #pm\n",
    "L = 0.135e3 #mm\n",
    "\n",
    "braggD1 = 2*d1*np.sin(0.5*np.arctan(D1/(2*L)))\n",
    "braggD2 = 2*d2*np.sin(0.5*np.arctan(D2/(2*L)))\n",
    "broglie = (h/np.sqrt(2*e*m*V*1e3))*1e12\n",
    "\n",
    "sigma_braggD1 = 0.5*np.sqrt( np.cos(0.5*np.arctan(D1/(2*L)))**2 / (D1**2 + 4*L**2)**2 )*L*d1*Espesor1\n",
    "sigma_braggD2 = 0.5*np.sqrt( np.cos(0.5*np.arctan(D2/(2*L)))**2 / (D2**2 + 4*L**2)**2 )*L*d2*Espesor2\n",
    "sigma_broglie = 0.25*np.sqrt(2)*(h*sigmaV*(1e3)/np.sqrt(e*m*(V*1e3)**3))*1e12\n",
    "\n",
    "sigma_braggD1, sigma_braggD2,sigma_broglie"
   ]
  },
  {
   "cell_type": "code",
   "execution_count": 150,
   "metadata": {
    "colab": {
     "base_uri": "https://localhost:8080/",
     "height": 394
    },
    "id": "vCL4F8cANMq6",
    "outputId": "cf2b891a-7462-42e1-84f9-1c6062d1cf08"
   },
   "outputs": [
    {
     "data": {
      "application/vnd.google.colaboratory.intrinsic+json": {
       "summary": "{\n  \"name\": \"DataFrame\",\n  \"rows\": 11,\n  \"fields\": [\n    {\n      \"column\": \"D1 [mm]\",\n      \"properties\": {\n        \"dtype\": \"number\",\n        \"std\": 2.5725738791405703,\n        \"min\": 22.45,\n        \"max\": 30.75,\n        \"num_unique_values\": 11,\n        \"samples\": [\n          25.3,\n          30.75,\n          23.25\n        ],\n        \"semantic_type\": \"\",\n        \"description\": \"\"\n      }\n    },\n    {\n      \"column\": \"D2 [mm]\",\n      \"properties\": {\n        \"dtype\": \"number\",\n        \"std\": 4.075012548781571,\n        \"min\": 39.8,\n        \"max\": 52.25,\n        \"num_unique_values\": 11,\n        \"samples\": [\n          44.4,\n          52.25,\n          40.5\n        ],\n        \"semantic_type\": \"\",\n        \"description\": \"\"\n      }\n    },\n    {\n      \"column\": \"Espesor1 [mm]\",\n      \"properties\": {\n        \"dtype\": \"number\",\n        \"std\": 0.2040276273627489,\n        \"min\": 0.85,\n        \"max\": 1.5,\n        \"num_unique_values\": 7,\n        \"samples\": [\n          1.5,\n          1.0,\n          1.15\n        ],\n        \"semantic_type\": \"\",\n        \"description\": \"\"\n      }\n    },\n    {\n      \"column\": \"Espesor2 [mm]\",\n      \"properties\": {\n        \"dtype\": \"number\",\n        \"std\": 0.4457577817604534,\n        \"min\": 0.14,\n        \"max\": 2.0,\n        \"num_unique_values\": 7,\n        \"samples\": [\n          2.0,\n          1.6,\n          1.4\n        ],\n        \"semantic_type\": \"\",\n        \"description\": \"\"\n      }\n    },\n    {\n      \"column\": \"V [kV]\",\n      \"properties\": {\n        \"dtype\": \"number\",\n        \"std\": 0.6633249580710798,\n        \"min\": 3.0,\n        \"max\": 5.0,\n        \"num_unique_values\": 11,\n        \"samples\": [\n          4.0,\n          3.0,\n          4.8\n        ],\n        \"semantic_type\": \"\",\n        \"description\": \"\"\n      }\n    },\n    {\n      \"column\": \"Sigma V [kV]\",\n      \"properties\": {\n        \"dtype\": \"number\",\n        \"std\": 0.0,\n        \"min\": 0.1,\n        \"max\": 0.1,\n        \"num_unique_values\": 1,\n        \"samples\": [\n          0.1\n        ],\n        \"semantic_type\": \"\",\n        \"description\": \"\"\n      }\n    },\n    {\n      \"column\": \"\\u03bb Bragg D1 [pm]\",\n      \"properties\": {\n        \"dtype\": \"number\",\n        \"std\": 2.0076355470324847,\n        \"min\": 17.66484302889277,\n        \"max\": 24.1413195336445,\n        \"num_unique_values\": 11,\n        \"samples\": [\n          19.893541584667354\n        ],\n        \"semantic_type\": \"\",\n        \"description\": \"\"\n      }\n    },\n    {\n      \"column\": \"\\u03bb Bragg D2 [pm]\",\n      \"properties\": {\n        \"dtype\": \"number\",\n        \"std\": 1.7982915072956398,\n        \"min\": 17.985412278697943,\n        \"max\": 23.476365954599316,\n        \"num_unique_values\": 11,\n        \"samples\": [\n          20.025064033511242\n        ],\n        \"semantic_type\": \"\",\n        \"description\": \"\"\n      }\n    },\n    {\n      \"column\": \"\\u03bb Broglie [pm]\",\n      \"properties\": {\n        \"dtype\": \"number\",\n        \"std\": 1.665079585432074,\n        \"min\": 17.355305056708627,\n        \"max\": 22.40560248432729,\n        \"num_unique_values\": 11,\n        \"samples\": [\n          19.403820938523165\n        ],\n        \"semantic_type\": \"\",\n        \"description\": \"\"\n      }\n    }\n  ]\n}",
       "type": "dataframe",
       "variable_name": "DataFrame"
      },
      "text/html": [
       "\n",
       "  <div id=\"df-faf7ccad-7853-4111-8095-12440d6c6dcc\" class=\"colab-df-container\">\n",
       "    <div>\n",
       "<style scoped>\n",
       "    .dataframe tbody tr th:only-of-type {\n",
       "        vertical-align: middle;\n",
       "    }\n",
       "\n",
       "    .dataframe tbody tr th {\n",
       "        vertical-align: top;\n",
       "    }\n",
       "\n",
       "    .dataframe thead th {\n",
       "        text-align: right;\n",
       "    }\n",
       "</style>\n",
       "<table border=\"1\" class=\"dataframe\">\n",
       "  <thead>\n",
       "    <tr style=\"text-align: right;\">\n",
       "      <th></th>\n",
       "      <th>D1 [mm]</th>\n",
       "      <th>D2 [mm]</th>\n",
       "      <th>Espesor1 [mm]</th>\n",
       "      <th>Espesor2 [mm]</th>\n",
       "      <th>V [kV]</th>\n",
       "      <th>Sigma V [kV]</th>\n",
       "      <th>λ Bragg D1 [pm]</th>\n",
       "      <th>λ Bragg D2 [pm]</th>\n",
       "      <th>λ Broglie [pm]</th>\n",
       "    </tr>\n",
       "  </thead>\n",
       "  <tbody>\n",
       "    <tr>\n",
       "      <th>0</th>\n",
       "      <td>30.75</td>\n",
       "      <td>52.25</td>\n",
       "      <td>1.50</td>\n",
       "      <td>2.00</td>\n",
       "      <td>3.0</td>\n",
       "      <td>0.1</td>\n",
       "      <td>24.141320</td>\n",
       "      <td>23.476366</td>\n",
       "      <td>22.405602</td>\n",
       "    </tr>\n",
       "    <tr>\n",
       "      <th>1</th>\n",
       "      <td>28.85</td>\n",
       "      <td>49.70</td>\n",
       "      <td>1.00</td>\n",
       "      <td>1.60</td>\n",
       "      <td>3.2</td>\n",
       "      <td>0.1</td>\n",
       "      <td>22.662712</td>\n",
       "      <td>22.359567</td>\n",
       "      <td>21.694131</td>\n",
       "    </tr>\n",
       "    <tr>\n",
       "      <th>2</th>\n",
       "      <td>27.70</td>\n",
       "      <td>48.15</td>\n",
       "      <td>1.10</td>\n",
       "      <td>1.30</td>\n",
       "      <td>3.4</td>\n",
       "      <td>0.1</td>\n",
       "      <td>21.766554</td>\n",
       "      <td>21.678650</td>\n",
       "      <td>21.046399</td>\n",
       "    </tr>\n",
       "    <tr>\n",
       "      <th>3</th>\n",
       "      <td>26.40</td>\n",
       "      <td>46.10</td>\n",
       "      <td>0.98</td>\n",
       "      <td>0.14</td>\n",
       "      <td>3.6</td>\n",
       "      <td>0.1</td>\n",
       "      <td>20.752457</td>\n",
       "      <td>20.775754</td>\n",
       "      <td>20.453423</td>\n",
       "    </tr>\n",
       "    <tr>\n",
       "      <th>4</th>\n",
       "      <td>25.85</td>\n",
       "      <td>45.45</td>\n",
       "      <td>0.85</td>\n",
       "      <td>1.20</td>\n",
       "      <td>3.8</td>\n",
       "      <td>0.1</td>\n",
       "      <td>20.323093</td>\n",
       "      <td>20.488930</td>\n",
       "      <td>19.907900</td>\n",
       "    </tr>\n",
       "    <tr>\n",
       "      <th>5</th>\n",
       "      <td>25.30</td>\n",
       "      <td>44.40</td>\n",
       "      <td>1.50</td>\n",
       "      <td>1.30</td>\n",
       "      <td>4.0</td>\n",
       "      <td>0.1</td>\n",
       "      <td>19.893542</td>\n",
       "      <td>20.025064</td>\n",
       "      <td>19.403821</td>\n",
       "    </tr>\n",
       "    <tr>\n",
       "      <th>6</th>\n",
       "      <td>24.50</td>\n",
       "      <td>42.90</td>\n",
       "      <td>1.15</td>\n",
       "      <td>1.40</td>\n",
       "      <td>4.2</td>\n",
       "      <td>0.1</td>\n",
       "      <td>19.268415</td>\n",
       "      <td>19.361274</td>\n",
       "      <td>18.936190</td>\n",
       "    </tr>\n",
       "    <tr>\n",
       "      <th>7</th>\n",
       "      <td>24.10</td>\n",
       "      <td>41.90</td>\n",
       "      <td>1.10</td>\n",
       "      <td>1.40</td>\n",
       "      <td>4.4</td>\n",
       "      <td>0.1</td>\n",
       "      <td>18.955710</td>\n",
       "      <td>18.918031</td>\n",
       "      <td>18.500817</td>\n",
       "    </tr>\n",
       "    <tr>\n",
       "      <th>8</th>\n",
       "      <td>23.35</td>\n",
       "      <td>40.60</td>\n",
       "      <td>1.00</td>\n",
       "      <td>1.40</td>\n",
       "      <td>4.6</td>\n",
       "      <td>0.1</td>\n",
       "      <td>18.369141</td>\n",
       "      <td>18.340980</td>\n",
       "      <td>18.094156</td>\n",
       "    </tr>\n",
       "    <tr>\n",
       "      <th>9</th>\n",
       "      <td>23.25</td>\n",
       "      <td>40.50</td>\n",
       "      <td>1.10</td>\n",
       "      <td>1.15</td>\n",
       "      <td>4.8</td>\n",
       "      <td>0.1</td>\n",
       "      <td>18.290907</td>\n",
       "      <td>18.296553</td>\n",
       "      <td>17.713184</td>\n",
       "    </tr>\n",
       "    <tr>\n",
       "      <th>10</th>\n",
       "      <td>22.45</td>\n",
       "      <td>39.80</td>\n",
       "      <td>1.20</td>\n",
       "      <td>1.30</td>\n",
       "      <td>5.0</td>\n",
       "      <td>0.1</td>\n",
       "      <td>17.664843</td>\n",
       "      <td>17.985412</td>\n",
       "      <td>17.355305</td>\n",
       "    </tr>\n",
       "  </tbody>\n",
       "</table>\n",
       "</div>\n",
       "    <div class=\"colab-df-buttons\">\n",
       "\n",
       "  <div class=\"colab-df-container\">\n",
       "    <button class=\"colab-df-convert\" onclick=\"convertToInteractive('df-faf7ccad-7853-4111-8095-12440d6c6dcc')\"\n",
       "            title=\"Convert this dataframe to an interactive table.\"\n",
       "            style=\"display:none;\">\n",
       "\n",
       "  <svg xmlns=\"http://www.w3.org/2000/svg\" height=\"24px\" viewBox=\"0 -960 960 960\">\n",
       "    <path d=\"M120-120v-720h720v720H120Zm60-500h600v-160H180v160Zm220 220h160v-160H400v160Zm0 220h160v-160H400v160ZM180-400h160v-160H180v160Zm440 0h160v-160H620v160ZM180-180h160v-160H180v160Zm440 0h160v-160H620v160Z\"/>\n",
       "  </svg>\n",
       "    </button>\n",
       "\n",
       "  <style>\n",
       "    .colab-df-container {\n",
       "      display:flex;\n",
       "      gap: 12px;\n",
       "    }\n",
       "\n",
       "    .colab-df-convert {\n",
       "      background-color: #E8F0FE;\n",
       "      border: none;\n",
       "      border-radius: 50%;\n",
       "      cursor: pointer;\n",
       "      display: none;\n",
       "      fill: #1967D2;\n",
       "      height: 32px;\n",
       "      padding: 0 0 0 0;\n",
       "      width: 32px;\n",
       "    }\n",
       "\n",
       "    .colab-df-convert:hover {\n",
       "      background-color: #E2EBFA;\n",
       "      box-shadow: 0px 1px 2px rgba(60, 64, 67, 0.3), 0px 1px 3px 1px rgba(60, 64, 67, 0.15);\n",
       "      fill: #174EA6;\n",
       "    }\n",
       "\n",
       "    .colab-df-buttons div {\n",
       "      margin-bottom: 4px;\n",
       "    }\n",
       "\n",
       "    [theme=dark] .colab-df-convert {\n",
       "      background-color: #3B4455;\n",
       "      fill: #D2E3FC;\n",
       "    }\n",
       "\n",
       "    [theme=dark] .colab-df-convert:hover {\n",
       "      background-color: #434B5C;\n",
       "      box-shadow: 0px 1px 3px 1px rgba(0, 0, 0, 0.15);\n",
       "      filter: drop-shadow(0px 1px 2px rgba(0, 0, 0, 0.3));\n",
       "      fill: #FFFFFF;\n",
       "    }\n",
       "  </style>\n",
       "\n",
       "    <script>\n",
       "      const buttonEl =\n",
       "        document.querySelector('#df-faf7ccad-7853-4111-8095-12440d6c6dcc button.colab-df-convert');\n",
       "      buttonEl.style.display =\n",
       "        google.colab.kernel.accessAllowed ? 'block' : 'none';\n",
       "\n",
       "      async function convertToInteractive(key) {\n",
       "        const element = document.querySelector('#df-faf7ccad-7853-4111-8095-12440d6c6dcc');\n",
       "        const dataTable =\n",
       "          await google.colab.kernel.invokeFunction('convertToInteractive',\n",
       "                                                    [key], {});\n",
       "        if (!dataTable) return;\n",
       "\n",
       "        const docLinkHtml = 'Like what you see? Visit the ' +\n",
       "          '<a target=\"_blank\" href=https://colab.research.google.com/notebooks/data_table.ipynb>data table notebook</a>'\n",
       "          + ' to learn more about interactive tables.';\n",
       "        element.innerHTML = '';\n",
       "        dataTable['output_type'] = 'display_data';\n",
       "        await google.colab.output.renderOutput(dataTable, element);\n",
       "        const docLink = document.createElement('div');\n",
       "        docLink.innerHTML = docLinkHtml;\n",
       "        element.appendChild(docLink);\n",
       "      }\n",
       "    </script>\n",
       "  </div>\n",
       "\n",
       "\n",
       "<div id=\"df-cc2f2b31-ec72-4921-875a-4dcd36eaf5cf\">\n",
       "  <button class=\"colab-df-quickchart\" onclick=\"quickchart('df-cc2f2b31-ec72-4921-875a-4dcd36eaf5cf')\"\n",
       "            title=\"Suggest charts\"\n",
       "            style=\"display:none;\">\n",
       "\n",
       "<svg xmlns=\"http://www.w3.org/2000/svg\" height=\"24px\"viewBox=\"0 0 24 24\"\n",
       "     width=\"24px\">\n",
       "    <g>\n",
       "        <path d=\"M19 3H5c-1.1 0-2 .9-2 2v14c0 1.1.9 2 2 2h14c1.1 0 2-.9 2-2V5c0-1.1-.9-2-2-2zM9 17H7v-7h2v7zm4 0h-2V7h2v10zm4 0h-2v-4h2v4z\"/>\n",
       "    </g>\n",
       "</svg>\n",
       "  </button>\n",
       "\n",
       "<style>\n",
       "  .colab-df-quickchart {\n",
       "      --bg-color: #E8F0FE;\n",
       "      --fill-color: #1967D2;\n",
       "      --hover-bg-color: #E2EBFA;\n",
       "      --hover-fill-color: #174EA6;\n",
       "      --disabled-fill-color: #AAA;\n",
       "      --disabled-bg-color: #DDD;\n",
       "  }\n",
       "\n",
       "  [theme=dark] .colab-df-quickchart {\n",
       "      --bg-color: #3B4455;\n",
       "      --fill-color: #D2E3FC;\n",
       "      --hover-bg-color: #434B5C;\n",
       "      --hover-fill-color: #FFFFFF;\n",
       "      --disabled-bg-color: #3B4455;\n",
       "      --disabled-fill-color: #666;\n",
       "  }\n",
       "\n",
       "  .colab-df-quickchart {\n",
       "    background-color: var(--bg-color);\n",
       "    border: none;\n",
       "    border-radius: 50%;\n",
       "    cursor: pointer;\n",
       "    display: none;\n",
       "    fill: var(--fill-color);\n",
       "    height: 32px;\n",
       "    padding: 0;\n",
       "    width: 32px;\n",
       "  }\n",
       "\n",
       "  .colab-df-quickchart:hover {\n",
       "    background-color: var(--hover-bg-color);\n",
       "    box-shadow: 0 1px 2px rgba(60, 64, 67, 0.3), 0 1px 3px 1px rgba(60, 64, 67, 0.15);\n",
       "    fill: var(--button-hover-fill-color);\n",
       "  }\n",
       "\n",
       "  .colab-df-quickchart-complete:disabled,\n",
       "  .colab-df-quickchart-complete:disabled:hover {\n",
       "    background-color: var(--disabled-bg-color);\n",
       "    fill: var(--disabled-fill-color);\n",
       "    box-shadow: none;\n",
       "  }\n",
       "\n",
       "  .colab-df-spinner {\n",
       "    border: 2px solid var(--fill-color);\n",
       "    border-color: transparent;\n",
       "    border-bottom-color: var(--fill-color);\n",
       "    animation:\n",
       "      spin 1s steps(1) infinite;\n",
       "  }\n",
       "\n",
       "  @keyframes spin {\n",
       "    0% {\n",
       "      border-color: transparent;\n",
       "      border-bottom-color: var(--fill-color);\n",
       "      border-left-color: var(--fill-color);\n",
       "    }\n",
       "    20% {\n",
       "      border-color: transparent;\n",
       "      border-left-color: var(--fill-color);\n",
       "      border-top-color: var(--fill-color);\n",
       "    }\n",
       "    30% {\n",
       "      border-color: transparent;\n",
       "      border-left-color: var(--fill-color);\n",
       "      border-top-color: var(--fill-color);\n",
       "      border-right-color: var(--fill-color);\n",
       "    }\n",
       "    40% {\n",
       "      border-color: transparent;\n",
       "      border-right-color: var(--fill-color);\n",
       "      border-top-color: var(--fill-color);\n",
       "    }\n",
       "    60% {\n",
       "      border-color: transparent;\n",
       "      border-right-color: var(--fill-color);\n",
       "    }\n",
       "    80% {\n",
       "      border-color: transparent;\n",
       "      border-right-color: var(--fill-color);\n",
       "      border-bottom-color: var(--fill-color);\n",
       "    }\n",
       "    90% {\n",
       "      border-color: transparent;\n",
       "      border-bottom-color: var(--fill-color);\n",
       "    }\n",
       "  }\n",
       "</style>\n",
       "\n",
       "  <script>\n",
       "    async function quickchart(key) {\n",
       "      const quickchartButtonEl =\n",
       "        document.querySelector('#' + key + ' button');\n",
       "      quickchartButtonEl.disabled = true;  // To prevent multiple clicks.\n",
       "      quickchartButtonEl.classList.add('colab-df-spinner');\n",
       "      try {\n",
       "        const charts = await google.colab.kernel.invokeFunction(\n",
       "            'suggestCharts', [key], {});\n",
       "      } catch (error) {\n",
       "        console.error('Error during call to suggestCharts:', error);\n",
       "      }\n",
       "      quickchartButtonEl.classList.remove('colab-df-spinner');\n",
       "      quickchartButtonEl.classList.add('colab-df-quickchart-complete');\n",
       "    }\n",
       "    (() => {\n",
       "      let quickchartButtonEl =\n",
       "        document.querySelector('#df-cc2f2b31-ec72-4921-875a-4dcd36eaf5cf button');\n",
       "      quickchartButtonEl.style.display =\n",
       "        google.colab.kernel.accessAllowed ? 'block' : 'none';\n",
       "    })();\n",
       "  </script>\n",
       "</div>\n",
       "\n",
       "  <div id=\"id_9a568f96-98dc-4840-ab3e-0aa3cb248824\">\n",
       "    <style>\n",
       "      .colab-df-generate {\n",
       "        background-color: #E8F0FE;\n",
       "        border: none;\n",
       "        border-radius: 50%;\n",
       "        cursor: pointer;\n",
       "        display: none;\n",
       "        fill: #1967D2;\n",
       "        height: 32px;\n",
       "        padding: 0 0 0 0;\n",
       "        width: 32px;\n",
       "      }\n",
       "\n",
       "      .colab-df-generate:hover {\n",
       "        background-color: #E2EBFA;\n",
       "        box-shadow: 0px 1px 2px rgba(60, 64, 67, 0.3), 0px 1px 3px 1px rgba(60, 64, 67, 0.15);\n",
       "        fill: #174EA6;\n",
       "      }\n",
       "\n",
       "      [theme=dark] .colab-df-generate {\n",
       "        background-color: #3B4455;\n",
       "        fill: #D2E3FC;\n",
       "      }\n",
       "\n",
       "      [theme=dark] .colab-df-generate:hover {\n",
       "        background-color: #434B5C;\n",
       "        box-shadow: 0px 1px 3px 1px rgba(0, 0, 0, 0.15);\n",
       "        filter: drop-shadow(0px 1px 2px rgba(0, 0, 0, 0.3));\n",
       "        fill: #FFFFFF;\n",
       "      }\n",
       "    </style>\n",
       "    <button class=\"colab-df-generate\" onclick=\"generateWithVariable('DataFrame')\"\n",
       "            title=\"Generate code using this dataframe.\"\n",
       "            style=\"display:none;\">\n",
       "\n",
       "  <svg xmlns=\"http://www.w3.org/2000/svg\" height=\"24px\"viewBox=\"0 0 24 24\"\n",
       "       width=\"24px\">\n",
       "    <path d=\"M7,19H8.4L18.45,9,17,7.55,7,17.6ZM5,21V16.75L18.45,3.32a2,2,0,0,1,2.83,0l1.4,1.43a1.91,1.91,0,0,1,.58,1.4,1.91,1.91,0,0,1-.58,1.4L9.25,21ZM18.45,9,17,7.55Zm-12,3A5.31,5.31,0,0,0,4.9,8.1,5.31,5.31,0,0,0,1,6.5,5.31,5.31,0,0,0,4.9,4.9,5.31,5.31,0,0,0,6.5,1,5.31,5.31,0,0,0,8.1,4.9,5.31,5.31,0,0,0,12,6.5,5.46,5.46,0,0,0,6.5,12Z\"/>\n",
       "  </svg>\n",
       "    </button>\n",
       "    <script>\n",
       "      (() => {\n",
       "      const buttonEl =\n",
       "        document.querySelector('#id_9a568f96-98dc-4840-ab3e-0aa3cb248824 button.colab-df-generate');\n",
       "      buttonEl.style.display =\n",
       "        google.colab.kernel.accessAllowed ? 'block' : 'none';\n",
       "\n",
       "      buttonEl.onclick = () => {\n",
       "        google.colab.notebook.generateWithVariable('DataFrame');\n",
       "      }\n",
       "      })();\n",
       "    </script>\n",
       "  </div>\n",
       "\n",
       "    </div>\n",
       "  </div>\n"
      ],
      "text/plain": [
       "    D1 [mm]  D2 [mm]  Espesor1 [mm]  Espesor2 [mm]  V [kV]  Sigma V [kV]  \\\n",
       "0     30.75    52.25           1.50           2.00     3.0           0.1   \n",
       "1     28.85    49.70           1.00           1.60     3.2           0.1   \n",
       "2     27.70    48.15           1.10           1.30     3.4           0.1   \n",
       "3     26.40    46.10           0.98           0.14     3.6           0.1   \n",
       "4     25.85    45.45           0.85           1.20     3.8           0.1   \n",
       "5     25.30    44.40           1.50           1.30     4.0           0.1   \n",
       "6     24.50    42.90           1.15           1.40     4.2           0.1   \n",
       "7     24.10    41.90           1.10           1.40     4.4           0.1   \n",
       "8     23.35    40.60           1.00           1.40     4.6           0.1   \n",
       "9     23.25    40.50           1.10           1.15     4.8           0.1   \n",
       "10    22.45    39.80           1.20           1.30     5.0           0.1   \n",
       "\n",
       "    λ Bragg D1 [pm]  λ Bragg D2 [pm]  λ Broglie [pm]  \n",
       "0         24.141320        23.476366       22.405602  \n",
       "1         22.662712        22.359567       21.694131  \n",
       "2         21.766554        21.678650       21.046399  \n",
       "3         20.752457        20.775754       20.453423  \n",
       "4         20.323093        20.488930       19.907900  \n",
       "5         19.893542        20.025064       19.403821  \n",
       "6         19.268415        19.361274       18.936190  \n",
       "7         18.955710        18.918031       18.500817  \n",
       "8         18.369141        18.340980       18.094156  \n",
       "9         18.290907        18.296553       17.713184  \n",
       "10        17.664843        17.985412       17.355305  "
      ]
     },
     "execution_count": 150,
     "metadata": {},
     "output_type": "execute_result"
    }
   ],
   "source": [
    "DataFrame = pd.DataFrame({'D1 [mm]':D1,'D2 [mm]':D2,'Espesor1 [mm]':Espesor1,\n",
    "                          'Espesor2 [mm]':Espesor2,'V [kV]':V,\"Sigma V [kV]\":sigmaV,\n",
    "                          \"λ Bragg D1 [pm]\":braggD1, \"λ Bragg D2 [pm]\":braggD2, \"λ Broglie [pm]\":broglie})\n",
    "DataFrame"
   ]
  },
  {
   "cell_type": "code",
   "execution_count": 153,
   "metadata": {
    "id": "AyfJHdcBNV8n"
   },
   "outputs": [],
   "source": [
    "Vnew = V**(-1/2)\n",
    "sigmaVnew = sigmaV*V**(-3/2)/2\n",
    "popt1, pcov1 = curve_fit(linear_function, Vnew, D1, sigma=Espesor1, absolute_sigma=True)\n",
    "popt2, pcov2 = curve_fit(linear_function, Vnew, D2, sigma=Espesor2, absolute_sigma=True)"
   ]
  },
  {
   "cell_type": "code",
   "execution_count": 192,
   "metadata": {
    "colab": {
     "base_uri": "https://localhost:8080/",
     "height": 472
    },
    "id": "THW11M5fjzt-",
    "outputId": "9ed99533-87a7-43a0-c5e2-1111d90aac72"
   },
   "outputs": [
    {
     "data": {
      "text/plain": [
       "Text(0, 0.5, 'Espesor (mm)')"
      ]
     },
     "execution_count": 192,
     "metadata": {},
     "output_type": "execute_result"
    },
    {
     "data": {
      "image/png": "[encoded data removed]",
      "text/plain": [
       "<Figure size 640x480 with 1 Axes>"
      ]
     },
     "metadata": {},
     "output_type": "display_data"
    }
   ],
   "source": [
    "plt.scatter(Vnew,Espesor1,color=\"black\",label=\"Espesor D1\")\n",
    "plt.scatter(Vnew,Espesor2,color=\"red\", label=\"Espesor D2\")\n",
    "plt.xlabel('$V^{-1/2}$ ($kV^{-1/2}$)')\n",
    "plt.ylabel('Espesor (mm)')"
   ]
  },
  {
   "cell_type": "code",
   "execution_count": 205,
   "metadata": {
    "colab": {
     "base_uri": "https://localhost:8080/",
     "height": 1000
    },
    "id": "x_9-OuznOiCP",
    "outputId": "f1c3dd04-3290-4e9b-b5dc-02da2e6c792a"
   },
   "outputs": [
    {
     "data": {
      "image/png": "[encoded data removed]",
      "text/plain": [
       "<Figure size 1000x1000 with 2 Axes>"
      ]
     },
     "metadata": {},
     "output_type": "display_data"
    }
   ],
   "source": [
    "slope1 = popt1[0]\n",
    "intercept1 = popt1[1]\n",
    "\n",
    "slope_std_err1 = np.sqrt(pcov1[0, 0])\n",
    "intercept_std_err1 = np.sqrt(pcov1[1, 1])\n",
    "\n",
    "Y_pred = linear_function(Vnew, *popt1)\n",
    "residuals = (D1 - Y_pred)/Espesor1\n",
    "\n",
    "\n",
    "slope2 = popt2[0]\n",
    "intercept2 = popt2[1]\n",
    "\n",
    "slope_std_err2 = np.sqrt(pcov2[0, 0])\n",
    "intercept_std_err2 = np.sqrt(pcov2[1, 1])\n",
    "\n",
    "Y_pred2 = linear_function(Vnew, *popt2)\n",
    "residuals2 = (D2 - Y_pred2)/Espesor2\n",
    "\n",
    "fig, (ax1, ax2) = plt.subplots(2, 1, figsize=(10, 10), gridspec_kw={'height_ratios': [2, 1]})  # 2 rows, 1 column, width = 10 inches, height = 10 inches\n",
    "\n",
    "ax1.errorbar(Vnew, D1, yerr= Espesor1,xerr=sigmaVnew,  fmt='o', label='Datos D1', color=\"black\")\n",
    "ax1.errorbar(Vnew, D2, yerr= Espesor2,xerr=sigmaVnew,  fmt='o', label='Datos D2', color=\"red\")\n",
    "ax1.plot(Vnew, Y_pred, color='black', linewidth=1, label=f'Ajuste lineal D1: y(x) = ({slope1:.0f} ± {slope_std_err1:.0f})x + ({intercept1:.0f} ± {intercept_std_err1:.0f})')\n",
    "ax1.plot(Vnew, Y_pred2, color='red', linewidth=1, label=f'Ajuste lineal D2: y(x) = ({slope2:.0f} ± {slope_std_err2:.0f})x + ({intercept2:.0f} ± {intercept_std_err2:.0f})')\n",
    "\n",
    "ax1.set_xlabel('$V^{-1/2}$ ($kV^{-1/2}$)')\n",
    "ax1.set_ylabel('D1 (mm)')\n",
    "ax1.legend(loc='upper left')\n",
    "ax1.set_title('Regresión Lineal de los Datos')\n",
    "\n",
    "# Plot normalized residuals\n",
    "ax2.scatter(Vnew, residuals, color='black', alpha=1, label='Residuales D1')\n",
    "ax2.scatter(Vnew, residuals2, color='red', alpha=1, label='Residuales D2')\n",
    "ax2.axhline(0, color='black', linewidth=1, linestyle='--')\n",
    "ax2.set_xlabel('$V^{-1/2}$ ($kV^{-1/2}$)')\n",
    "ax2.set_ylabel('Residuales Normalizados')\n",
    "ax2.legend(loc='upper right')\n",
    "ax2.set_title(\"Residuales Normalizados de la Regresión Lineal\")\n",
    "\n",
    "plt.tight_layout()\n",
    "\n",
    "# Save the figure as a PDF file\n",
    "plt.savefig('Weighted_linear_regression_with_normalized_residuals_curve_fit.pdf', format='pdf')\n",
    "plt.show()"
   ]
  },
  {
   "cell_type": "code",
   "execution_count": 189,
   "metadata": {
    "colab": {
     "base_uri": "https://localhost:8080/"
    },
    "id": "6wX2CUvHndz7",
    "outputId": "0a92211d-9ee7-45fb-b63f-410902a5c703"
   },
   "outputs": [
    {
     "data": {
      "text/plain": [
       "(182.20345805082385, 27.12198258252732)"
      ]
     },
     "execution_count": 189,
     "metadata": {},
     "output_type": "execute_result"
    }
   ],
   "source": [
    "d1_exp = ( 2*L*1e-3*h / (slope1*(np.sqrt(1000)/1e3)*np.sqrt(2*e*m)) )*1e12\n",
    "sigma_d1_exp = ( 2*L*1e-3*h /np.sqrt(2*e*m) )*(slope_std_err1/slope1**2)/(np.sqrt(1000)/1e3)*1e12\n",
    "d1_err = (213-d1_exp) / sigma_d1_exp\n",
    "d1_inc =\n",
    "d1_exp, sigma_d1_exp"
   ]
  },
  {
   "cell_type": "code",
   "execution_count": 187,
   "metadata": {
    "colab": {
     "base_uri": "https://localhost:8080/"
    },
    "id": "xe6OpkefVFvC",
    "outputId": "b51388b0-93db-4108-d84c-51b72103dcbc"
   },
   "outputs": [
    {
     "data": {
      "text/plain": [
       "(113.74458516215483, 13.466039860758261)"
      ]
     },
     "execution_count": 187,
     "metadata": {},
     "output_type": "execute_result"
    }
   ],
   "source": [
    "d2_exp = ( 2*L*1e-3*h / (slope2*(np.sqrt(1000)/1e3)*np.sqrt(2*e*m)) )*1e12\n",
    "sigma_d2_exp = ( 2*L*1e-3*h /np.sqrt(2*e*m) )*(slope_std_err2/slope2**2)/(np.sqrt(1000)/1e3)*1e12\n",
    "d2_exp, sigma_d2_exp"
   ]
  },
  {
   "cell_type": "code",
   "execution_count": 183,
   "metadata": {
    "colab": {
     "base_uri": "https://localhost:8080/"
    },
    "id": "7YPaEs7od4rC",
    "outputId": "3aa58e9e-32e2-4b61-e2b3-a00d2fc01b2b"
   },
   "outputs": [
    {
     "data": {
      "text/plain": [
       "(7.745945192798268e-34, 1.1530263632300794e-34)"
      ]
     },
     "execution_count": 183,
     "metadata": {},
     "output_type": "execute_result"
    }
   ],
   "source": [
    "h_1 = slope1*(np.sqrt(1000)/1e3)*d1*1e-12*np.sqrt(2*e*m)/(2*L*1e-3)\n",
    "sigmah_1 = slope_std_err1*(np.sqrt(1000)/1e3)*d1*1e-12*np.sqrt(2*e*m)/(2*L*1e-3)\n",
    "h_1, sigmah_1"
   ]
  },
  {
   "cell_type": "code",
   "execution_count": 181,
   "metadata": {
    "colab": {
     "base_uri": "https://localhost:8080/"
    },
    "id": "C8fIwZyDlYBu",
    "outputId": "e4721fca-fcb9-4def-a053-761f96cb0524"
   },
   "outputs": [
    {
     "data": {
      "text/plain": [
       "(7.165158665251052e-34, 8.48271696251534e-35)"
      ]
     },
     "execution_count": 181,
     "metadata": {},
     "output_type": "execute_result"
    }
   ],
   "source": [
    "h_2 = slope2*(np.sqrt(1000)/1e3)*d2*1e-12*np.sqrt(2*e*m)/(2*L*1e-3)\n",
    "sigmah_2 = slope_std_err2*(np.sqrt(1000)/1e3)*d2*1e-12*np.sqrt(2*e*m)/(2*L*1e-3)\n",
    "h_2, sigmah_2"
   ]
  },
  {
   "cell_type": "code",
   "execution_count": null,
   "metadata": {
    "id": "OdbQhfXklcqv"
   },
   "outputs": [],
   "source": []
  }
 ],
 "metadata": {
  "colab": {
   "provenance": []
  },
  "kernelspec": {
   "display_name": "Python 3 (ipykernel)",
   "language": "python",
   "name": "python3"
  },
  "language_info": {
   "codemirror_mode": {
    "name": "ipython",
    "version": 3
   },
   "file_extension": ".py",
   "mimetype": "text/x-python",
   "name": "python",
   "nbconvert_exporter": "python",
   "pygments_lexer": "ipython3",
   "version": "3.9.13"
  }
 },
 "nbformat": 4,
 "nbformat_minor": 1
}
