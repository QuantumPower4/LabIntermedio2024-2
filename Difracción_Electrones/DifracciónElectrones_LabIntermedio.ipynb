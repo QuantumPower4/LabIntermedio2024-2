{
  "cells": [
    {
      "cell_type": "markdown",
      "metadata": {
        "id": "nIHICDOdXy-1"
      },
      "source": [
        "# Bitácora 2 - Difracción de Electrones"
      ]
    },
    {
      "cell_type": "code",
      "execution_count": null,
      "metadata": {
        "id": "yjVqGCeMkcIK"
      },
      "outputs": [],
      "source": [
        "import IPython.display as Image"
      ]
    },
    {
      "cell_type": "markdown",
      "metadata": {
        "id": "g-mp64enZvZm"
      },
      "source": [
        "## Datos básicos"
      ]
    },
    {
      "cell_type": "markdown",
      "metadata": {
        "id": "dfUPMR57YMG-"
      },
      "source": [
        "\n",
        "Universdad de los Andes, Bogotá, Colombia\n",
        "\n",
        "\n",
        "Sesión 1: 30 de agosto de 2024 (16:00 - 18:00)\n",
        "\n",
        "Sesión 2: 6 de septiembre de 2024 (17:000 - 18:00)\n",
        "\n",
        "\n",
        "Integrante: Juan Sebastián Sánchez / Número de estudiante: blabla bla / Número de celular: 3002287930.\n",
        "\n",
        "Integrante: Juan José Guzmán / Número de estudiante: 202214541 / Número de celular: 3054457204.\n",
        "\n",
        "\n",
        "\n",
        "Grupo 5 - Laboratorio Intermedio - Sección 2\n"
      ]
    },
    {
      "cell_type": "markdown",
      "metadata": {
        "id": "DExkM0pxbNXr"
      },
      "source": [
        "## Ubicación de los datos tomados"
      ]
    },
    {
      "cell_type": "markdown",
      "metadata": {
        "id": "DWE6u8p8kcIi"
      },
      "source": [
        "Los datos fueron reportados en un archivo de excel llamado \"Toma de datos\" y se guardó en un repositorio de GitHub denominado \"LabIntermedio2024-2\" en la carpeta \"Difracción_Electrones\".\n",
        "\n",
        "Repositorio de GitHub: https://github.com/QuantumPower4/LabIntermedio2024-2/blob/main/Difracción_Electrones/Toma%20de%20datos.xlsx"
      ]
    },
    {
      "cell_type": "code",
      "execution_count": null,
      "metadata": {
        "colab": {
          "base_uri": "https://localhost:8080/"
        },
        "id": "hCJz0Ac_LCB3",
        "outputId": "af4be2c8-b62d-422d-bc56-6a6e1a0d180a"
      },
      "outputs": [
        {
          "output_type": "stream",
          "name": "stdout",
          "text": [
            "Requirement already satisfied: uncertainties in /usr/local/lib/python3.10/dist-packages (3.2.2)\n"
          ]
        }
      ],
      "source": [
        "%pip install uncertainties"
      ]
    },
    {
      "cell_type": "code",
      "execution_count": null,
      "metadata": {
        "id": "gAooirmRLIrP"
      },
      "outputs": [],
      "source": [
        "import numpy as np\n",
        "import sympy as sym\n",
        "import matplotlib.pyplot as plt\n",
        "from scipy.optimize import curve_fit\n",
        "import pandas as pd\n",
        "import uncertainties as unc\n",
        "\n",
        "def linear_function(X, a):\n",
        "    return a * X"
      ]
    },
    {
      "cell_type": "code",
      "execution_count": null,
      "metadata": {
        "id": "n02cdgOULJ-H"
      },
      "outputs": [],
      "source": [
        "D1 = np.array([26.4,25.85,25.3,24.5,24.1,23.35,23.25,22.45])\n",
        "D2 = np.array([46.1,45.45,44.4,42.9,41.9,40.6,40.5,39.8])\n",
        "Espesor1 = np.array([0.98,0.85,1.5,1.15,1.1,1,1.1,1.2])\n",
        "Espesor2 = np.array([1.4,1.2,1.3,1.4,1.4,1.4,1.15,1.3])\n",
        "V = np.array([3.6,3.8,4,4.2,4.4,4.6,4.8,5])\n",
        "sigmaV = np.array([0.1]*len(V))"
      ]
    },
    {
      "cell_type": "code",
      "execution_count": null,
      "metadata": {
        "colab": {
          "base_uri": "https://localhost:8080/"
        },
        "id": "TsEVR41CWCmP",
        "outputId": "30198676-b6f5-4bbb-f896-550dc485d93e"
      },
      "outputs": [
        {
          "output_type": "execute_result",
          "data": {
            "text/plain": [
              "(array([0.19122015, 0.16592708, 0.29293848, 0.22472309, 0.21501648,\n",
              "        0.19557606, 0.21514902, 0.23483952]),\n",
              " array([0.15437442, 0.13243901, 0.14367884, 0.15503586, 0.15523386,\n",
              "        0.15548496, 0.12773542, 0.14451908]),\n",
              " array([0.28407532, 0.26194606, 0.24254776, 0.22543084, 0.21023656,\n",
              "        0.19667561, 0.18451233, 0.17355305]))"
            ]
          },
          "metadata": {},
          "execution_count": 40
        }
      ],
      "source": [
        "m = 9.11e-31 #kg\n",
        "e = 1.6e-19 #C\n",
        "h = 6.626e-34 #Js\n",
        "d1 = 213 #pm\n",
        "d2 = 123 #pm\n",
        "L = 0.135e3 #mm\n",
        "\n",
        "braggD1 = 2*d1*np.sin(0.5*np.arctan(D1/(2*L)))\n",
        "braggD2 = 2*d2*np.sin(0.5*np.arctan(D2/(2*L)))\n",
        "broglie = (h/np.sqrt(2*e*m*V*1e3))*1e12\n",
        "\n",
        "sigma_braggD1 = 0.5*np.sqrt( np.cos(0.5*np.arctan(D1/(2*L)))**2 / (D1**2 + 4*L**2)**2 )*L*d1*Espesor1\n",
        "sigma_braggD2 = 0.5*np.sqrt( np.cos(0.5*np.arctan(D2/(2*L)))**2 / (D2**2 + 4*L**2)**2 )*L*d2*Espesor2\n",
        "sigma_broglie = 0.25*np.sqrt(2)*(h*sigmaV*(1e3)/np.sqrt(e*m*(V*1e3)**3))*1e12\n",
        "\n",
        "sigma_braggD1, sigma_braggD2,sigma_broglie"
      ]
    },
    {
      "cell_type": "code",
      "execution_count": null,
      "metadata": {
        "colab": {
          "base_uri": "https://localhost:8080/",
          "height": 300
        },
        "id": "vCL4F8cANMq6",
        "outputId": "16d47c05-e353-4b48-b5b7-241baf7d7160"
      },
      "outputs": [
        {
          "output_type": "execute_result",
          "data": {
            "text/plain": [
              "   D1 [mm]  D2 [mm]  Espesor1 [mm]  Espesor2 [mm]  V [kV]  Sigma V [kV]  \\\n",
              "0    26.40    46.10           0.98           1.40     3.6           0.1   \n",
              "1    25.85    45.45           0.85           1.20     3.8           0.1   \n",
              "2    25.30    44.40           1.50           1.30     4.0           0.1   \n",
              "3    24.50    42.90           1.15           1.40     4.2           0.1   \n",
              "4    24.10    41.90           1.10           1.40     4.4           0.1   \n",
              "5    23.35    40.60           1.00           1.40     4.6           0.1   \n",
              "6    23.25    40.50           1.10           1.15     4.8           0.1   \n",
              "7    22.45    39.80           1.20           1.30     5.0           0.1   \n",
              "\n",
              "   λ Bragg D1 [pm]  λ Bragg D2 [pm]  λ Broglie [pm]  \n",
              "0        20.752457        20.775754       20.453423  \n",
              "1        20.323093        20.488930       19.907900  \n",
              "2        19.893542        20.025064       19.403821  \n",
              "3        19.268415        19.361274       18.936190  \n",
              "4        18.955710        18.918031       18.500817  \n",
              "5        18.369141        18.340980       18.094156  \n",
              "6        18.290907        18.296553       17.713184  \n",
              "7        17.664843        17.985412       17.355305  "
            ],
            "text/html": [
              "\n",
              "  <div id=\"df-0d2bf2b1-9103-4981-ae33-5b9469c407f9\" class=\"colab-df-container\">\n",
              "    <div>\n",
              "<style scoped>\n",
              "    .dataframe tbody tr th:only-of-type {\n",
              "        vertical-align: middle;\n",
              "    }\n",
              "\n",
              "    .dataframe tbody tr th {\n",
              "        vertical-align: top;\n",
              "    }\n",
              "\n",
              "    .dataframe thead th {\n",
              "        text-align: right;\n",
              "    }\n",
              "</style>\n",
              "<table border=\"1\" class=\"dataframe\">\n",
              "  <thead>\n",
              "    <tr style=\"text-align: right;\">\n",
              "      <th></th>\n",
              "      <th>D1 [mm]</th>\n",
              "      <th>D2 [mm]</th>\n",
              "      <th>Espesor1 [mm]</th>\n",
              "      <th>Espesor2 [mm]</th>\n",
              "      <th>V [kV]</th>\n",
              "      <th>Sigma V [kV]</th>\n",
              "      <th>λ Bragg D1 [pm]</th>\n",
              "      <th>λ Bragg D2 [pm]</th>\n",
              "      <th>λ Broglie [pm]</th>\n",
              "    </tr>\n",
              "  </thead>\n",
              "  <tbody>\n",
              "    <tr>\n",
              "      <th>0</th>\n",
              "      <td>26.40</td>\n",
              "      <td>46.10</td>\n",
              "      <td>0.98</td>\n",
              "      <td>1.40</td>\n",
              "      <td>3.6</td>\n",
              "      <td>0.1</td>\n",
              "      <td>20.752457</td>\n",
              "      <td>20.775754</td>\n",
              "      <td>20.453423</td>\n",
              "    </tr>\n",
              "    <tr>\n",
              "      <th>1</th>\n",
              "      <td>25.85</td>\n",
              "      <td>45.45</td>\n",
              "      <td>0.85</td>\n",
              "      <td>1.20</td>\n",
              "      <td>3.8</td>\n",
              "      <td>0.1</td>\n",
              "      <td>20.323093</td>\n",
              "      <td>20.488930</td>\n",
              "      <td>19.907900</td>\n",
              "    </tr>\n",
              "    <tr>\n",
              "      <th>2</th>\n",
              "      <td>25.30</td>\n",
              "      <td>44.40</td>\n",
              "      <td>1.50</td>\n",
              "      <td>1.30</td>\n",
              "      <td>4.0</td>\n",
              "      <td>0.1</td>\n",
              "      <td>19.893542</td>\n",
              "      <td>20.025064</td>\n",
              "      <td>19.403821</td>\n",
              "    </tr>\n",
              "    <tr>\n",
              "      <th>3</th>\n",
              "      <td>24.50</td>\n",
              "      <td>42.90</td>\n",
              "      <td>1.15</td>\n",
              "      <td>1.40</td>\n",
              "      <td>4.2</td>\n",
              "      <td>0.1</td>\n",
              "      <td>19.268415</td>\n",
              "      <td>19.361274</td>\n",
              "      <td>18.936190</td>\n",
              "    </tr>\n",
              "    <tr>\n",
              "      <th>4</th>\n",
              "      <td>24.10</td>\n",
              "      <td>41.90</td>\n",
              "      <td>1.10</td>\n",
              "      <td>1.40</td>\n",
              "      <td>4.4</td>\n",
              "      <td>0.1</td>\n",
              "      <td>18.955710</td>\n",
              "      <td>18.918031</td>\n",
              "      <td>18.500817</td>\n",
              "    </tr>\n",
              "    <tr>\n",
              "      <th>5</th>\n",
              "      <td>23.35</td>\n",
              "      <td>40.60</td>\n",
              "      <td>1.00</td>\n",
              "      <td>1.40</td>\n",
              "      <td>4.6</td>\n",
              "      <td>0.1</td>\n",
              "      <td>18.369141</td>\n",
              "      <td>18.340980</td>\n",
              "      <td>18.094156</td>\n",
              "    </tr>\n",
              "    <tr>\n",
              "      <th>6</th>\n",
              "      <td>23.25</td>\n",
              "      <td>40.50</td>\n",
              "      <td>1.10</td>\n",
              "      <td>1.15</td>\n",
              "      <td>4.8</td>\n",
              "      <td>0.1</td>\n",
              "      <td>18.290907</td>\n",
              "      <td>18.296553</td>\n",
              "      <td>17.713184</td>\n",
              "    </tr>\n",
              "    <tr>\n",
              "      <th>7</th>\n",
              "      <td>22.45</td>\n",
              "      <td>39.80</td>\n",
              "      <td>1.20</td>\n",
              "      <td>1.30</td>\n",
              "      <td>5.0</td>\n",
              "      <td>0.1</td>\n",
              "      <td>17.664843</td>\n",
              "      <td>17.985412</td>\n",
              "      <td>17.355305</td>\n",
              "    </tr>\n",
              "  </tbody>\n",
              "</table>\n",
              "</div>\n",
              "    <div class=\"colab-df-buttons\">\n",
              "\n",
              "  <div class=\"colab-df-container\">\n",
              "    <button class=\"colab-df-convert\" onclick=\"convertToInteractive('df-0d2bf2b1-9103-4981-ae33-5b9469c407f9')\"\n",
              "            title=\"Convert this dataframe to an interactive table.\"\n",
              "            style=\"display:none;\">\n",
              "\n",
              "  <svg xmlns=\"http://www.w3.org/2000/svg\" height=\"24px\" viewBox=\"0 -960 960 960\">\n",
              "    <path d=\"M120-120v-720h720v720H120Zm60-500h600v-160H180v160Zm220 220h160v-160H400v160Zm0 220h160v-160H400v160ZM180-400h160v-160H180v160Zm440 0h160v-160H620v160ZM180-180h160v-160H180v160Zm440 0h160v-160H620v160Z\"/>\n",
              "  </svg>\n",
              "    </button>\n",
              "\n",
              "  <style>\n",
              "    .colab-df-container {\n",
              "      display:flex;\n",
              "      gap: 12px;\n",
              "    }\n",
              "\n",
              "    .colab-df-convert {\n",
              "      background-color: #E8F0FE;\n",
              "      border: none;\n",
              "      border-radius: 50%;\n",
              "      cursor: pointer;\n",
              "      display: none;\n",
              "      fill: #1967D2;\n",
              "      height: 32px;\n",
              "      padding: 0 0 0 0;\n",
              "      width: 32px;\n",
              "    }\n",
              "\n",
              "    .colab-df-convert:hover {\n",
              "      background-color: #E2EBFA;\n",
              "      box-shadow: 0px 1px 2px rgba(60, 64, 67, 0.3), 0px 1px 3px 1px rgba(60, 64, 67, 0.15);\n",
              "      fill: #174EA6;\n",
              "    }\n",
              "\n",
              "    .colab-df-buttons div {\n",
              "      margin-bottom: 4px;\n",
              "    }\n",
              "\n",
              "    [theme=dark] .colab-df-convert {\n",
              "      background-color: #3B4455;\n",
              "      fill: #D2E3FC;\n",
              "    }\n",
              "\n",
              "    [theme=dark] .colab-df-convert:hover {\n",
              "      background-color: #434B5C;\n",
              "      box-shadow: 0px 1px 3px 1px rgba(0, 0, 0, 0.15);\n",
              "      filter: drop-shadow(0px 1px 2px rgba(0, 0, 0, 0.3));\n",
              "      fill: #FFFFFF;\n",
              "    }\n",
              "  </style>\n",
              "\n",
              "    <script>\n",
              "      const buttonEl =\n",
              "        document.querySelector('#df-0d2bf2b1-9103-4981-ae33-5b9469c407f9 button.colab-df-convert');\n",
              "      buttonEl.style.display =\n",
              "        google.colab.kernel.accessAllowed ? 'block' : 'none';\n",
              "\n",
              "      async function convertToInteractive(key) {\n",
              "        const element = document.querySelector('#df-0d2bf2b1-9103-4981-ae33-5b9469c407f9');\n",
              "        const dataTable =\n",
              "          await google.colab.kernel.invokeFunction('convertToInteractive',\n",
              "                                                    [key], {});\n",
              "        if (!dataTable) return;\n",
              "\n",
              "        const docLinkHtml = 'Like what you see? Visit the ' +\n",
              "          '<a target=\"_blank\" href=https://colab.research.google.com/notebooks/data_table.ipynb>data table notebook</a>'\n",
              "          + ' to learn more about interactive tables.';\n",
              "        element.innerHTML = '';\n",
              "        dataTable['output_type'] = 'display_data';\n",
              "        await google.colab.output.renderOutput(dataTable, element);\n",
              "        const docLink = document.createElement('div');\n",
              "        docLink.innerHTML = docLinkHtml;\n",
              "        element.appendChild(docLink);\n",
              "      }\n",
              "    </script>\n",
              "  </div>\n",
              "\n",
              "\n",
              "<div id=\"df-ed770114-03da-492c-bc0c-a3c95a5d9a69\">\n",
              "  <button class=\"colab-df-quickchart\" onclick=\"quickchart('df-ed770114-03da-492c-bc0c-a3c95a5d9a69')\"\n",
              "            title=\"Suggest charts\"\n",
              "            style=\"display:none;\">\n",
              "\n",
              "<svg xmlns=\"http://www.w3.org/2000/svg\" height=\"24px\"viewBox=\"0 0 24 24\"\n",
              "     width=\"24px\">\n",
              "    <g>\n",
              "        <path d=\"M19 3H5c-1.1 0-2 .9-2 2v14c0 1.1.9 2 2 2h14c1.1 0 2-.9 2-2V5c0-1.1-.9-2-2-2zM9 17H7v-7h2v7zm4 0h-2V7h2v10zm4 0h-2v-4h2v4z\"/>\n",
              "    </g>\n",
              "</svg>\n",
              "  </button>\n",
              "\n",
              "<style>\n",
              "  .colab-df-quickchart {\n",
              "      --bg-color: #E8F0FE;\n",
              "      --fill-color: #1967D2;\n",
              "      --hover-bg-color: #E2EBFA;\n",
              "      --hover-fill-color: #174EA6;\n",
              "      --disabled-fill-color: #AAA;\n",
              "      --disabled-bg-color: #DDD;\n",
              "  }\n",
              "\n",
              "  [theme=dark] .colab-df-quickchart {\n",
              "      --bg-color: #3B4455;\n",
              "      --fill-color: #D2E3FC;\n",
              "      --hover-bg-color: #434B5C;\n",
              "      --hover-fill-color: #FFFFFF;\n",
              "      --disabled-bg-color: #3B4455;\n",
              "      --disabled-fill-color: #666;\n",
              "  }\n",
              "\n",
              "  .colab-df-quickchart {\n",
              "    background-color: var(--bg-color);\n",
              "    border: none;\n",
              "    border-radius: 50%;\n",
              "    cursor: pointer;\n",
              "    display: none;\n",
              "    fill: var(--fill-color);\n",
              "    height: 32px;\n",
              "    padding: 0;\n",
              "    width: 32px;\n",
              "  }\n",
              "\n",
              "  .colab-df-quickchart:hover {\n",
              "    background-color: var(--hover-bg-color);\n",
              "    box-shadow: 0 1px 2px rgba(60, 64, 67, 0.3), 0 1px 3px 1px rgba(60, 64, 67, 0.15);\n",
              "    fill: var(--button-hover-fill-color);\n",
              "  }\n",
              "\n",
              "  .colab-df-quickchart-complete:disabled,\n",
              "  .colab-df-quickchart-complete:disabled:hover {\n",
              "    background-color: var(--disabled-bg-color);\n",
              "    fill: var(--disabled-fill-color);\n",
              "    box-shadow: none;\n",
              "  }\n",
              "\n",
              "  .colab-df-spinner {\n",
              "    border: 2px solid var(--fill-color);\n",
              "    border-color: transparent;\n",
              "    border-bottom-color: var(--fill-color);\n",
              "    animation:\n",
              "      spin 1s steps(1) infinite;\n",
              "  }\n",
              "\n",
              "  @keyframes spin {\n",
              "    0% {\n",
              "      border-color: transparent;\n",
              "      border-bottom-color: var(--fill-color);\n",
              "      border-left-color: var(--fill-color);\n",
              "    }\n",
              "    20% {\n",
              "      border-color: transparent;\n",
              "      border-left-color: var(--fill-color);\n",
              "      border-top-color: var(--fill-color);\n",
              "    }\n",
              "    30% {\n",
              "      border-color: transparent;\n",
              "      border-left-color: var(--fill-color);\n",
              "      border-top-color: var(--fill-color);\n",
              "      border-right-color: var(--fill-color);\n",
              "    }\n",
              "    40% {\n",
              "      border-color: transparent;\n",
              "      border-right-color: var(--fill-color);\n",
              "      border-top-color: var(--fill-color);\n",
              "    }\n",
              "    60% {\n",
              "      border-color: transparent;\n",
              "      border-right-color: var(--fill-color);\n",
              "    }\n",
              "    80% {\n",
              "      border-color: transparent;\n",
              "      border-right-color: var(--fill-color);\n",
              "      border-bottom-color: var(--fill-color);\n",
              "    }\n",
              "    90% {\n",
              "      border-color: transparent;\n",
              "      border-bottom-color: var(--fill-color);\n",
              "    }\n",
              "  }\n",
              "</style>\n",
              "\n",
              "  <script>\n",
              "    async function quickchart(key) {\n",
              "      const quickchartButtonEl =\n",
              "        document.querySelector('#' + key + ' button');\n",
              "      quickchartButtonEl.disabled = true;  // To prevent multiple clicks.\n",
              "      quickchartButtonEl.classList.add('colab-df-spinner');\n",
              "      try {\n",
              "        const charts = await google.colab.kernel.invokeFunction(\n",
              "            'suggestCharts', [key], {});\n",
              "      } catch (error) {\n",
              "        console.error('Error during call to suggestCharts:', error);\n",
              "      }\n",
              "      quickchartButtonEl.classList.remove('colab-df-spinner');\n",
              "      quickchartButtonEl.classList.add('colab-df-quickchart-complete');\n",
              "    }\n",
              "    (() => {\n",
              "      let quickchartButtonEl =\n",
              "        document.querySelector('#df-ed770114-03da-492c-bc0c-a3c95a5d9a69 button');\n",
              "      quickchartButtonEl.style.display =\n",
              "        google.colab.kernel.accessAllowed ? 'block' : 'none';\n",
              "    })();\n",
              "  </script>\n",
              "</div>\n",
              "\n",
              "  <div id=\"id_1ffc0f2a-c394-4737-980e-d331c755731d\">\n",
              "    <style>\n",
              "      .colab-df-generate {\n",
              "        background-color: #E8F0FE;\n",
              "        border: none;\n",
              "        border-radius: 50%;\n",
              "        cursor: pointer;\n",
              "        display: none;\n",
              "        fill: #1967D2;\n",
              "        height: 32px;\n",
              "        padding: 0 0 0 0;\n",
              "        width: 32px;\n",
              "      }\n",
              "\n",
              "      .colab-df-generate:hover {\n",
              "        background-color: #E2EBFA;\n",
              "        box-shadow: 0px 1px 2px rgba(60, 64, 67, 0.3), 0px 1px 3px 1px rgba(60, 64, 67, 0.15);\n",
              "        fill: #174EA6;\n",
              "      }\n",
              "\n",
              "      [theme=dark] .colab-df-generate {\n",
              "        background-color: #3B4455;\n",
              "        fill: #D2E3FC;\n",
              "      }\n",
              "\n",
              "      [theme=dark] .colab-df-generate:hover {\n",
              "        background-color: #434B5C;\n",
              "        box-shadow: 0px 1px 3px 1px rgba(0, 0, 0, 0.15);\n",
              "        filter: drop-shadow(0px 1px 2px rgba(0, 0, 0, 0.3));\n",
              "        fill: #FFFFFF;\n",
              "      }\n",
              "    </style>\n",
              "    <button class=\"colab-df-generate\" onclick=\"generateWithVariable('DataFrame')\"\n",
              "            title=\"Generate code using this dataframe.\"\n",
              "            style=\"display:none;\">\n",
              "\n",
              "  <svg xmlns=\"http://www.w3.org/2000/svg\" height=\"24px\"viewBox=\"0 0 24 24\"\n",
              "       width=\"24px\">\n",
              "    <path d=\"M7,19H8.4L18.45,9,17,7.55,7,17.6ZM5,21V16.75L18.45,3.32a2,2,0,0,1,2.83,0l1.4,1.43a1.91,1.91,0,0,1,.58,1.4,1.91,1.91,0,0,1-.58,1.4L9.25,21ZM18.45,9,17,7.55Zm-12,3A5.31,5.31,0,0,0,4.9,8.1,5.31,5.31,0,0,0,1,6.5,5.31,5.31,0,0,0,4.9,4.9,5.31,5.31,0,0,0,6.5,1,5.31,5.31,0,0,0,8.1,4.9,5.31,5.31,0,0,0,12,6.5,5.46,5.46,0,0,0,6.5,12Z\"/>\n",
              "  </svg>\n",
              "    </button>\n",
              "    <script>\n",
              "      (() => {\n",
              "      const buttonEl =\n",
              "        document.querySelector('#id_1ffc0f2a-c394-4737-980e-d331c755731d button.colab-df-generate');\n",
              "      buttonEl.style.display =\n",
              "        google.colab.kernel.accessAllowed ? 'block' : 'none';\n",
              "\n",
              "      buttonEl.onclick = () => {\n",
              "        google.colab.notebook.generateWithVariable('DataFrame');\n",
              "      }\n",
              "      })();\n",
              "    </script>\n",
              "  </div>\n",
              "\n",
              "    </div>\n",
              "  </div>\n"
            ],
            "application/vnd.google.colaboratory.intrinsic+json": {
              "type": "dataframe",
              "variable_name": "DataFrame",
              "summary": "{\n  \"name\": \"DataFrame\",\n  \"rows\": 8,\n  \"fields\": [\n    {\n      \"column\": \"D1 [mm]\",\n      \"properties\": {\n        \"dtype\": \"number\",\n        \"std\": 1.3752921767495703,\n        \"min\": 22.45,\n        \"max\": 26.4,\n        \"num_unique_values\": 8,\n        \"samples\": [\n          25.85,\n          23.35,\n          26.4\n        ],\n        \"semantic_type\": \"\",\n        \"description\": \"\"\n      }\n    },\n    {\n      \"column\": \"D2 [mm]\",\n      \"properties\": {\n        \"dtype\": \"number\",\n        \"std\": 2.400957770200409,\n        \"min\": 39.8,\n        \"max\": 46.1,\n        \"num_unique_values\": 8,\n        \"samples\": [\n          45.45,\n          40.6,\n          46.1\n        ],\n        \"semantic_type\": \"\",\n        \"description\": \"\"\n      }\n    },\n    {\n      \"column\": \"Espesor1 [mm]\",\n      \"properties\": {\n        \"dtype\": \"number\",\n        \"std\": 0.1922052474384015,\n        \"min\": 0.85,\n        \"max\": 1.5,\n        \"num_unique_values\": 7,\n        \"samples\": [\n          0.98,\n          0.85,\n          1.0\n        ],\n        \"semantic_type\": \"\",\n        \"description\": \"\"\n      }\n    },\n    {\n      \"column\": \"Espesor2 [mm]\",\n      \"properties\": {\n        \"dtype\": \"number\",\n        \"std\": 0.09977653603356423,\n        \"min\": 1.15,\n        \"max\": 1.4,\n        \"num_unique_values\": 4,\n        \"samples\": [\n          1.2,\n          1.15,\n          1.4\n        ],\n        \"semantic_type\": \"\",\n        \"description\": \"\"\n      }\n    },\n    {\n      \"column\": \"V [kV]\",\n      \"properties\": {\n        \"dtype\": \"number\",\n        \"std\": 0.4898979485566356,\n        \"min\": 3.6,\n        \"max\": 5.0,\n        \"num_unique_values\": 8,\n        \"samples\": [\n          3.8,\n          4.6,\n          3.6\n        ],\n        \"semantic_type\": \"\",\n        \"description\": \"\"\n      }\n    },\n    {\n      \"column\": \"Sigma V [kV]\",\n      \"properties\": {\n        \"dtype\": \"number\",\n        \"std\": 0.0,\n        \"min\": 0.1,\n        \"max\": 0.1,\n        \"num_unique_values\": 1,\n        \"samples\": [\n          0.1\n        ],\n        \"semantic_type\": \"\",\n        \"description\": \"\"\n      }\n    },\n    {\n      \"column\": \"\\u03bb Bragg D1 [pm]\",\n      \"properties\": {\n        \"dtype\": \"number\",\n        \"std\": 1.075005847887657,\n        \"min\": 17.66484302889277,\n        \"max\": 20.75245694505532,\n        \"num_unique_values\": 8,\n        \"samples\": [\n          20.323092610609024\n        ],\n        \"semantic_type\": \"\",\n        \"description\": \"\"\n      }\n    },\n    {\n      \"column\": \"\\u03bb Bragg D2 [pm]\",\n      \"properties\": {\n        \"dtype\": \"number\",\n        \"std\": 1.0634267867630358,\n        \"min\": 17.985412278697943,\n        \"max\": 20.775753562791834,\n        \"num_unique_values\": 8,\n        \"samples\": [\n          20.488930024959775\n        ],\n        \"semantic_type\": \"\",\n        \"description\": \"\"\n      }\n    },\n    {\n      \"column\": \"\\u03bb Broglie [pm]\",\n      \"properties\": {\n        \"dtype\": \"number\",\n        \"std\": 1.0823441237545735,\n        \"min\": 17.355305056708627,\n        \"max\": 20.453423158599747,\n        \"num_unique_values\": 8,\n        \"samples\": [\n          19.907900230661408\n        ],\n        \"semantic_type\": \"\",\n        \"description\": \"\"\n      }\n    }\n  ]\n}"
            }
          },
          "metadata": {},
          "execution_count": 41
        }
      ],
      "source": [
        "DataFrame = pd.DataFrame({'D1 [mm]':D1,'D2 [mm]':D2,'Espesor1 [mm]':Espesor1,\n",
        "                          'Espesor2 [mm]':Espesor2,'V [kV]':V,\"Sigma V [kV]\":sigmaV,\n",
        "                          \"λ Bragg D1 [pm]\":braggD1, \"λ Bragg D2 [pm]\":braggD2, \"λ Broglie [pm]\":broglie})\n",
        "DataFrame"
      ]
    },
    {
      "cell_type": "code",
      "execution_count": null,
      "metadata": {
        "id": "AyfJHdcBNV8n"
      },
      "outputs": [],
      "source": [
        "Vnew = V**(-1/2)\n",
        "sigmaVnew = sigmaV*V**(-3/2)/2\n",
        "popt1, pcov1 = curve_fit(linear_function, Vnew, D1, sigma=Espesor1, absolute_sigma=True)\n",
        "popt2, pcov2 = curve_fit(linear_function, Vnew, D2, sigma=Espesor2, absolute_sigma=True)"
      ]
    },
    {
      "cell_type": "code",
      "execution_count": null,
      "metadata": {
        "colab": {
          "base_uri": "https://localhost:8080/",
          "height": 472
        },
        "id": "THW11M5fjzt-",
        "outputId": "35ccad1e-fda9-4f18-f005-543836e868b2"
      },
      "outputs": [
        {
          "output_type": "execute_result",
          "data": {
            "text/plain": [
              "Text(0, 0.5, 'Espesor (mm)')"
            ]
          },
          "metadata": {},
          "execution_count": 47
        },
        {
          "output_type": "display_data",
          "data": {
            "text/plain": [
              "<Figure size 640x480 with 1 Axes>"
            ],
            "image/png": "[encoded data removed]"
          },
          "metadata": {}
        }
      ],
      "source": [
        "plt.scatter(Vnew,Espesor1,color=\"black\",label=\"Espesor D1\")\n",
        "plt.scatter(Vnew,Espesor2,color=\"red\", label=\"Espesor D2\")\n",
        "plt.xlabel('$V^{-1/2}$ ($kV^{-1/2}$)')\n",
        "plt.ylabel('Espesor (mm)')"
      ]
    },
    {
      "cell_type": "code",
      "execution_count": null,
      "metadata": {
        "colab": {
          "base_uri": "https://localhost:8080/",
          "height": 1000
        },
        "id": "x_9-OuznOiCP",
        "outputId": "11a5241e-cf26-4aa7-cf3e-da84ce9c7ed2"
      },
      "outputs": [
        {
          "output_type": "display_data",
          "data": {
            "text/plain": [
              "<Figure size 1000x1000 with 2 Axes>"
            ],
            "image/png": "[encoded data removed]"
          },
          "metadata": {}
        }
      ],
      "source": [
        "slope1 = popt1[0]\n",
        "#intercept1 = popt1[1]\n",
        "\n",
        "slope_std_err1 = np.sqrt(pcov1[0, 0])\n",
        "#intercept_std_err1 = np.sqrt(pcov1[1, 1])\n",
        "\n",
        "Y_pred = linear_function(Vnew, *popt1)\n",
        "residuals = (D1 - Y_pred)/Espesor1\n",
        "\n",
        "\n",
        "slope2 = popt2[0]\n",
        "#intercept2 = popt2[1]\n",
        "\n",
        "slope_std_err2 = np.sqrt(pcov2[0, 0])\n",
        "#intercept_std_err2 = np.sqrt(pcov2[1, 1])\n",
        "\n",
        "Y_pred2 = linear_function(Vnew, *popt2)\n",
        "residuals2 = (D2 - Y_pred2)/Espesor2\n",
        "\n",
        "fig, (ax1, ax2) = plt.subplots(2, 1, figsize=(10, 10), gridspec_kw={'height_ratios': [2, 1]})  # 2 rows, 1 column, width = 10 inches, height = 10 inches\n",
        "\n",
        "ax1.errorbar(Vnew, D1, yerr= Espesor1,xerr=sigmaVnew,  fmt='o', label='Datos D1', color=\"black\")\n",
        "ax1.errorbar(Vnew, D2, yerr= Espesor2,xerr=sigmaVnew,  fmt='o', label='Datos D2', color=\"red\")\n",
        "#ax1.plot(Vnew, Y_pred, color='black', linewidth=1, label=f'Ajuste lineal D1: y(x) = ({slope1:.0f} ± {slope_std_err1:.0f})x + ({intercept1:.0f} ± {intercept_std_err1:.0f})')\n",
        "#ax1.plot(Vnew, Y_pred2, color='red', linewidth=1, label=f'Ajuste lineal D2: y(x) = ({slope2:.0f} ± {slope_std_err2:.0f})x + ({intercept2:.0f} ± {intercept_std_err2:.0f})')\n",
        "\n",
        "ax1.plot(Vnew, Y_pred, color='black', linewidth=1, label=f'Ajuste lineal D1: y(x) = ({slope1:.0f} ± {slope_std_err1:.0f})x')\n",
        "ax1.plot(Vnew, Y_pred2, color='red', linewidth=1, label=f'Ajuste lineal D2: y(x) = ({slope2:.0f} ± {slope_std_err2:.0f})x')\n",
        "\n",
        "ax1.set_xlabel('$V^{-1/2}$ ($kV^{-1/2}$)')\n",
        "ax1.set_ylabel('D1 (mm)')\n",
        "ax1.legend(loc='upper left')\n",
        "ax1.set_title('Regresión Lineal de los Datos')\n",
        "\n",
        "# Plot normalized residuals\n",
        "ax2.scatter(Vnew, residuals, color='black', alpha=1, label='Residuales D1')\n",
        "ax2.scatter(Vnew, residuals2, color='red', alpha=1, label='Residuales D2')\n",
        "ax2.axhline(0, color='black', linewidth=1, linestyle='--')\n",
        "ax2.set_xlabel('$V^{-1/2}$ ($kV^{-1/2}$)')\n",
        "ax2.set_ylabel('Residuales Normalizados')\n",
        "ax2.legend(loc='upper right')\n",
        "ax2.set_title(\"Residuales Normalizados de la Regresión Lineal\")\n",
        "\n",
        "plt.tight_layout()\n",
        "\n",
        "# Save the figure as a PDF file\n",
        "plt.savefig('Weighted_linear_regression_with_normalized_residuals_curve_fit.pdf', format='pdf')\n",
        "plt.show()"
      ]
    },
    {
      "cell_type": "code",
      "execution_count": null,
      "metadata": {
        "colab": {
          "base_uri": "https://localhost:8080/"
        },
        "id": "6wX2CUvHndz7",
        "outputId": "2e924eba-9df2-470e-aa37-96d52a084313"
      },
      "outputs": [
        {
          "output_type": "stream",
          "name": "stdout",
          "text": [
            "Valor experimental D1: 208, Incertidumbre: 3, Error: 1.528, Incertidumbre porcentual: 0.01541\n"
          ]
        }
      ],
      "source": [
        "d1_exp = ( 2*L*1e-3*h / (slope1*(np.sqrt(1000)/1e3)*np.sqrt(2*e*m)) )*1e12\n",
        "sigma_d1_exp = ( 2*L*1e-3*h /np.sqrt(2*e*m) )*(slope_std_err1/slope1**2)/(np.sqrt(1000)/1e3)*1e12\n",
        "d1_err = (213-d1_exp) / sigma_d1_exp\n",
        "d1_inc = sigma_d1_exp/d1_exp\n",
        "print('Valor experimental D1: {0:.0f}, Incertidumbre: {1:.0f}, Error: {2:.4}, Incertidumbre porcentual: {3:.4}'.format(d1_exp,sigma_d1_exp,d1_err,d1_inc))"
      ]
    },
    {
      "cell_type": "code",
      "execution_count": null,
      "metadata": {
        "colab": {
          "base_uri": "https://localhost:8080/"
        },
        "id": "xe6OpkefVFvC",
        "outputId": "77c600d9-f0b6-4c32-c132-452640f5d9ab"
      },
      "outputs": [
        {
          "output_type": "execute_result",
          "data": {
            "text/plain": [
              "(118.74844739813166,\n",
              " 1.2851288320058478,\n",
              " 3.308269564875029,\n",
              " 0.010822279029023057)"
            ]
          },
          "metadata": {},
          "execution_count": 58
        }
      ],
      "source": [
        "d2_exp = ( 2*L*1e-3*h / (slope2*(np.sqrt(1000)/1e3)*np.sqrt(2*e*m)) )*1e12\n",
        "sigma_d2_exp = ( 2*L*1e-3*h /np.sqrt(2*e*m) )*(slope_std_err2/slope2**2)/(np.sqrt(1000)/1e3)*1e12\n",
        "\n",
        "d2_err = (123-d2_exp) / sigma_d2_exp\n",
        "d2_inc = sigma_d2_exp/d2_exp\n",
        "\n",
        "d2_exp, sigma_d2_exp, d2_err, d2_inc"
      ]
    },
    {
      "cell_type": "code",
      "source": [
        "(123-119)/1"
      ],
      "metadata": {
        "colab": {
          "base_uri": "https://localhost:8080/"
        },
        "id": "9P-DtkRZItXl",
        "outputId": "5ae2dfa1-f456-46b0-a35c-66567f04fd3c"
      },
      "execution_count": null,
      "outputs": [
        {
          "output_type": "execute_result",
          "data": {
            "text/plain": [
              "4.0"
            ]
          },
          "metadata": {},
          "execution_count": 62
        }
      ]
    },
    {
      "cell_type": "code",
      "execution_count": null,
      "metadata": {
        "colab": {
          "base_uri": "https://localhost:8080/"
        },
        "id": "7YPaEs7od4rC",
        "outputId": "c8bc2e97-cb49-47b7-fde8-15e38de3f26f"
      },
      "outputs": [
        {
          "output_type": "execute_result",
          "data": {
            "text/plain": [
              "(6.782050842982781e-34,\n",
              " 1.0451509700788183e-35,\n",
              " 1.4930937964972943,\n",
              " 0.015410544601861986)"
            ]
          },
          "metadata": {},
          "execution_count": 60
        }
      ],
      "source": [
        "h_1 = slope1*(np.sqrt(1000)/1e3)*d1*1e-12*np.sqrt(2*e*m)/(2*L*1e-3)\n",
        "sigmah_1 = slope_std_err1*(np.sqrt(1000)/1e3)*d1*1e-12*np.sqrt(2*e*m)/(2*L*1e-3)\n",
        "\n",
        "h1_err = -(6.626e-34-h_1) / sigmah_1\n",
        "h1_inc = sigmah_1/h_1\n",
        "\n",
        "h_1, sigmah_1, h1_err, h1_inc"
      ]
    },
    {
      "cell_type": "code",
      "execution_count": null,
      "metadata": {
        "colab": {
          "base_uri": "https://localhost:8080/"
        },
        "id": "C8fIwZyDlYBu",
        "outputId": "925fc85b-f157-425a-f5e3-4c7b7d5fc8e7"
      },
      "outputs": [
        {
          "output_type": "execute_result",
          "data": {
            "text/plain": [
              "(6.863230786231087e-34,\n",
              " 7.427579860917413e-36,\n",
              " 3.1939176780764456,\n",
              " 0.010822279029023059)"
            ]
          },
          "metadata": {},
          "execution_count": 61
        }
      ],
      "source": [
        "h_2 = slope2*(np.sqrt(1000)/1e3)*d2*1e-12*np.sqrt(2*e*m)/(2*L*1e-3)\n",
        "sigmah_2 = slope_std_err2*(np.sqrt(1000)/1e3)*d2*1e-12*np.sqrt(2*e*m)/(2*L*1e-3)\n",
        "\n",
        "h2_err = -(6.626e-34-h_2) / sigmah_2\n",
        "h2_inc = sigmah_2/h_2\n",
        "\n",
        "h_2, sigmah_2, h2_err, h2_inc"
      ]
    },
    {
      "cell_type": "code",
      "execution_count": null,
      "metadata": {
        "id": "OdbQhfXklcqv"
      },
      "outputs": [],
      "source": []
    }
  ],
  "metadata": {
    "colab": {
      "provenance": []
    },
    "kernelspec": {
      "display_name": "Python 3 (ipykernel)",
      "language": "python",
      "name": "python3"
    },
    "language_info": {
      "codemirror_mode": {
        "name": "ipython",
        "version": 3
      },
      "file_extension": ".py",
      "mimetype": "text/x-python",
      "name": "python",
      "nbconvert_exporter": "python",
      "pygments_lexer": "ipython3",
      "version": "3.9.13"
    }
  },
  "nbformat": 4,
  "nbformat_minor": 0
}